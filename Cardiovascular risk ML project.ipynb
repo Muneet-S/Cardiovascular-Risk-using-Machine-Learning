{
 "cells": [
  {
   "cell_type": "markdown",
   "id": "fc58c627-ac10-4d61-a3da-a89ed2f52728",
   "metadata": {},
   "source": [
    "# Loading the libraries"
   ]
  },
  {
   "cell_type": "code",
   "execution_count": 1,
   "id": "a43ea9a1-9152-4c8d-b319-46b91aa45985",
   "metadata": {},
   "outputs": [],
   "source": [
    "# Libraries to help with reading and manipulating data\n",
    "import numpy as np\n",
    "import pandas as pd\n",
    "\n",
    "# Libraries to help with data visualization\n",
    "import matplotlib.pyplot as plt\n",
    "import seaborn as sns\n",
    "\n",
    "# split the data into train and test\n",
    "from sklearn.model_selection import train_test_split\n",
    "\n",
    "# to scale the data \n",
    "from sklearn.preprocessing import StandardScaler, MinMaxScaler\n",
    "\n",
    "# to do PCA \n",
    "from sklearn.decomposition import PCA\n",
    "\n",
    "# for one hot encoding\n",
    "from sklearn.preprocessing import OneHotEncoder\n",
    "\n",
    "# for imputation\n",
    "from sklearn.impute import SimpleImputer, KNNImputer\n",
    "\n",
    "# for building models\n",
    "from sklearn.linear_model import LogisticRegression\n",
    "from sklearn.neighbors import KNeighborsClassifier\n",
    "from sklearn.tree import DecisionTreeClassifier, plot_tree\n",
    "from sklearn.ensemble import RandomForestClassifier\n",
    "import statsmodels.api as sm\n",
    "\n",
    "# for metrics\n",
    "import sklearn.metrics as metrics\n",
    "from sklearn.metrics import (\n",
    "    classification_report,\n",
    "    confusion_matrix,\n",
    "    ConfusionMatrixDisplay,\n",
    "    f1_score,\n",
    "    accuracy_score,\n",
    "    recall_score,\n",
    "    precision_score,\n",
    "    roc_auc_score,\n",
    "    precision_recall_curve,\n",
    "    roc_curve,\n",
    ")\n",
    "\n",
    "\n",
    "# for cross validation\n",
    "from sklearn.model_selection import cross_val_score, StratifiedKFold\n",
    "\n",
    "# To tune a model\n",
    "from sklearn.model_selection import GridSearchCV, RandomizedSearchCV\n",
    "\n",
    "# To supress the warning messages generated\n",
    "import warnings"
   ]
  },
  {
   "cell_type": "markdown",
   "id": "b6119902-84e5-454c-b26c-fd2139c029b5",
   "metadata": {},
   "source": [
    "# Loading the data and getting some basic understanding of the data"
   ]
  },
  {
   "cell_type": "code",
   "execution_count": 2,
   "id": "ba26fcaf-a3ae-4a7d-9cfb-e543312c558e",
   "metadata": {},
   "outputs": [
    {
     "data": {
      "text/html": [
       "<div>\n",
       "<style scoped>\n",
       "    .dataframe tbody tr th:only-of-type {\n",
       "        vertical-align: middle;\n",
       "    }\n",
       "\n",
       "    .dataframe tbody tr th {\n",
       "        vertical-align: top;\n",
       "    }\n",
       "\n",
       "    .dataframe thead th {\n",
       "        text-align: right;\n",
       "    }\n",
       "</style>\n",
       "<table border=\"1\" class=\"dataframe\">\n",
       "  <thead>\n",
       "    <tr style=\"text-align: right;\">\n",
       "      <th></th>\n",
       "      <th>id</th>\n",
       "      <th>age</th>\n",
       "      <th>education</th>\n",
       "      <th>sex</th>\n",
       "      <th>is_smoking</th>\n",
       "      <th>cigsPerDay</th>\n",
       "      <th>BPMeds</th>\n",
       "      <th>prevalentStroke</th>\n",
       "      <th>prevalentHyp</th>\n",
       "      <th>diabetes</th>\n",
       "      <th>totChol</th>\n",
       "      <th>sysBP</th>\n",
       "      <th>diaBP</th>\n",
       "      <th>BMI</th>\n",
       "      <th>heartRate</th>\n",
       "      <th>glucose</th>\n",
       "      <th>TenYearCHD</th>\n",
       "    </tr>\n",
       "  </thead>\n",
       "  <tbody>\n",
       "    <tr>\n",
       "      <th>0</th>\n",
       "      <td>0</td>\n",
       "      <td>64</td>\n",
       "      <td>2.0</td>\n",
       "      <td>F</td>\n",
       "      <td>YES</td>\n",
       "      <td>3.0</td>\n",
       "      <td>0.0</td>\n",
       "      <td>0</td>\n",
       "      <td>0</td>\n",
       "      <td>0</td>\n",
       "      <td>221.0</td>\n",
       "      <td>148.0</td>\n",
       "      <td>85.0</td>\n",
       "      <td>NaN</td>\n",
       "      <td>90.0</td>\n",
       "      <td>80.0</td>\n",
       "      <td>1</td>\n",
       "    </tr>\n",
       "    <tr>\n",
       "      <th>1</th>\n",
       "      <td>1</td>\n",
       "      <td>36</td>\n",
       "      <td>4.0</td>\n",
       "      <td>M</td>\n",
       "      <td>NO</td>\n",
       "      <td>0.0</td>\n",
       "      <td>0.0</td>\n",
       "      <td>0</td>\n",
       "      <td>1</td>\n",
       "      <td>0</td>\n",
       "      <td>212.0</td>\n",
       "      <td>168.0</td>\n",
       "      <td>98.0</td>\n",
       "      <td>29.77</td>\n",
       "      <td>72.0</td>\n",
       "      <td>75.0</td>\n",
       "      <td>0</td>\n",
       "    </tr>\n",
       "    <tr>\n",
       "      <th>2</th>\n",
       "      <td>2</td>\n",
       "      <td>46</td>\n",
       "      <td>1.0</td>\n",
       "      <td>F</td>\n",
       "      <td>YES</td>\n",
       "      <td>10.0</td>\n",
       "      <td>0.0</td>\n",
       "      <td>0</td>\n",
       "      <td>0</td>\n",
       "      <td>0</td>\n",
       "      <td>250.0</td>\n",
       "      <td>116.0</td>\n",
       "      <td>71.0</td>\n",
       "      <td>20.35</td>\n",
       "      <td>88.0</td>\n",
       "      <td>94.0</td>\n",
       "      <td>0</td>\n",
       "    </tr>\n",
       "    <tr>\n",
       "      <th>3</th>\n",
       "      <td>3</td>\n",
       "      <td>50</td>\n",
       "      <td>1.0</td>\n",
       "      <td>M</td>\n",
       "      <td>YES</td>\n",
       "      <td>20.0</td>\n",
       "      <td>0.0</td>\n",
       "      <td>0</td>\n",
       "      <td>1</td>\n",
       "      <td>0</td>\n",
       "      <td>233.0</td>\n",
       "      <td>158.0</td>\n",
       "      <td>88.0</td>\n",
       "      <td>28.26</td>\n",
       "      <td>68.0</td>\n",
       "      <td>94.0</td>\n",
       "      <td>1</td>\n",
       "    </tr>\n",
       "    <tr>\n",
       "      <th>4</th>\n",
       "      <td>4</td>\n",
       "      <td>64</td>\n",
       "      <td>1.0</td>\n",
       "      <td>F</td>\n",
       "      <td>YES</td>\n",
       "      <td>30.0</td>\n",
       "      <td>0.0</td>\n",
       "      <td>0</td>\n",
       "      <td>0</td>\n",
       "      <td>0</td>\n",
       "      <td>241.0</td>\n",
       "      <td>136.5</td>\n",
       "      <td>85.0</td>\n",
       "      <td>26.42</td>\n",
       "      <td>70.0</td>\n",
       "      <td>77.0</td>\n",
       "      <td>0</td>\n",
       "    </tr>\n",
       "  </tbody>\n",
       "</table>\n",
       "</div>"
      ],
      "text/plain": [
       "   id  age  education sex is_smoking  cigsPerDay  BPMeds  prevalentStroke  \\\n",
       "0   0   64        2.0   F        YES         3.0     0.0                0   \n",
       "1   1   36        4.0   M         NO         0.0     0.0                0   \n",
       "2   2   46        1.0   F        YES        10.0     0.0                0   \n",
       "3   3   50        1.0   M        YES        20.0     0.0                0   \n",
       "4   4   64        1.0   F        YES        30.0     0.0                0   \n",
       "\n",
       "   prevalentHyp  diabetes  totChol  sysBP  diaBP    BMI  heartRate  glucose  \\\n",
       "0             0         0    221.0  148.0   85.0    NaN       90.0     80.0   \n",
       "1             1         0    212.0  168.0   98.0  29.77       72.0     75.0   \n",
       "2             0         0    250.0  116.0   71.0  20.35       88.0     94.0   \n",
       "3             1         0    233.0  158.0   88.0  28.26       68.0     94.0   \n",
       "4             0         0    241.0  136.5   85.0  26.42       70.0     77.0   \n",
       "\n",
       "   TenYearCHD  \n",
       "0           1  \n",
       "1           0  \n",
       "2           0  \n",
       "3           1  \n",
       "4           0  "
      ]
     },
     "execution_count": 2,
     "metadata": {},
     "output_type": "execute_result"
    }
   ],
   "source": [
    "data = pd.read_csv('C:/Users/ravip/Desktop/DS_session/data_cardiovascular_risk.csv')\n",
    "data.head()"
   ]
  },
  {
   "cell_type": "code",
   "execution_count": 3,
   "id": "3d9d354a-69ee-417d-a049-cafbddcbc82e",
   "metadata": {},
   "outputs": [
    {
     "data": {
      "text/plain": [
       "(3390, 17)"
      ]
     },
     "execution_count": 3,
     "metadata": {},
     "output_type": "execute_result"
    }
   ],
   "source": [
    "data.shape   #shape is the attribute of the dataframe and not a function/method, hence no parantheses ()"
   ]
  },
  {
   "cell_type": "code",
   "execution_count": 4,
   "id": "01d82605-da55-42b0-92bd-a2488f87f953",
   "metadata": {},
   "outputs": [
    {
     "name": "stdout",
     "output_type": "stream",
     "text": [
      "<class 'pandas.core.frame.DataFrame'>\n",
      "RangeIndex: 3390 entries, 0 to 3389\n",
      "Data columns (total 17 columns):\n",
      " #   Column           Non-Null Count  Dtype  \n",
      "---  ------           --------------  -----  \n",
      " 0   id               3390 non-null   int64  \n",
      " 1   age              3390 non-null   int64  \n",
      " 2   education        3303 non-null   float64\n",
      " 3   sex              3390 non-null   object \n",
      " 4   is_smoking       3390 non-null   object \n",
      " 5   cigsPerDay       3368 non-null   float64\n",
      " 6   BPMeds           3346 non-null   float64\n",
      " 7   prevalentStroke  3390 non-null   int64  \n",
      " 8   prevalentHyp     3390 non-null   int64  \n",
      " 9   diabetes         3390 non-null   int64  \n",
      " 10  totChol          3352 non-null   float64\n",
      " 11  sysBP            3390 non-null   float64\n",
      " 12  diaBP            3390 non-null   float64\n",
      " 13  BMI              3376 non-null   float64\n",
      " 14  heartRate        3389 non-null   float64\n",
      " 15  glucose          3086 non-null   float64\n",
      " 16  TenYearCHD       3390 non-null   int64  \n",
      "dtypes: float64(9), int64(6), object(2)\n",
      "memory usage: 450.4+ KB\n"
     ]
    }
   ],
   "source": [
    "data.info()"
   ]
  },
  {
   "cell_type": "code",
   "execution_count": 5,
   "id": "80aa4ec3-65df-4dbf-8b36-792720f94abe",
   "metadata": {},
   "outputs": [
    {
     "data": {
      "text/plain": [
       "id                   0\n",
       "age                  0\n",
       "education           87\n",
       "sex                  0\n",
       "is_smoking           0\n",
       "cigsPerDay          22\n",
       "BPMeds              44\n",
       "prevalentStroke      0\n",
       "prevalentHyp         0\n",
       "diabetes             0\n",
       "totChol             38\n",
       "sysBP                0\n",
       "diaBP                0\n",
       "BMI                 14\n",
       "heartRate            1\n",
       "glucose            304\n",
       "TenYearCHD           0\n",
       "dtype: int64"
      ]
     },
     "execution_count": 5,
     "metadata": {},
     "output_type": "execute_result"
    }
   ],
   "source": [
    "data.isnull().sum()"
   ]
  },
  {
   "cell_type": "code",
   "execution_count": 6,
   "id": "e5a159fd-32fa-4b33-8a8a-4b7ef52bb731",
   "metadata": {},
   "outputs": [
    {
     "data": {
      "text/html": [
       "<div>\n",
       "<style scoped>\n",
       "    .dataframe tbody tr th:only-of-type {\n",
       "        vertical-align: middle;\n",
       "    }\n",
       "\n",
       "    .dataframe tbody tr th {\n",
       "        vertical-align: top;\n",
       "    }\n",
       "\n",
       "    .dataframe thead th {\n",
       "        text-align: right;\n",
       "    }\n",
       "</style>\n",
       "<table border=\"1\" class=\"dataframe\">\n",
       "  <thead>\n",
       "    <tr style=\"text-align: right;\">\n",
       "      <th></th>\n",
       "      <th>count</th>\n",
       "      <th>mean</th>\n",
       "      <th>std</th>\n",
       "      <th>min</th>\n",
       "      <th>25%</th>\n",
       "      <th>50%</th>\n",
       "      <th>75%</th>\n",
       "      <th>max</th>\n",
       "    </tr>\n",
       "  </thead>\n",
       "  <tbody>\n",
       "    <tr>\n",
       "      <th>id</th>\n",
       "      <td>3390.0</td>\n",
       "      <td>1694.500000</td>\n",
       "      <td>978.753033</td>\n",
       "      <td>0.00</td>\n",
       "      <td>847.25</td>\n",
       "      <td>1694.50</td>\n",
       "      <td>2541.75</td>\n",
       "      <td>3389.0</td>\n",
       "    </tr>\n",
       "    <tr>\n",
       "      <th>age</th>\n",
       "      <td>3390.0</td>\n",
       "      <td>49.542183</td>\n",
       "      <td>8.592878</td>\n",
       "      <td>32.00</td>\n",
       "      <td>42.00</td>\n",
       "      <td>49.00</td>\n",
       "      <td>56.00</td>\n",
       "      <td>70.0</td>\n",
       "    </tr>\n",
       "    <tr>\n",
       "      <th>education</th>\n",
       "      <td>3303.0</td>\n",
       "      <td>1.970936</td>\n",
       "      <td>1.019081</td>\n",
       "      <td>1.00</td>\n",
       "      <td>1.00</td>\n",
       "      <td>2.00</td>\n",
       "      <td>3.00</td>\n",
       "      <td>4.0</td>\n",
       "    </tr>\n",
       "    <tr>\n",
       "      <th>cigsPerDay</th>\n",
       "      <td>3368.0</td>\n",
       "      <td>9.069477</td>\n",
       "      <td>11.879078</td>\n",
       "      <td>0.00</td>\n",
       "      <td>0.00</td>\n",
       "      <td>0.00</td>\n",
       "      <td>20.00</td>\n",
       "      <td>70.0</td>\n",
       "    </tr>\n",
       "    <tr>\n",
       "      <th>BPMeds</th>\n",
       "      <td>3346.0</td>\n",
       "      <td>0.029886</td>\n",
       "      <td>0.170299</td>\n",
       "      <td>0.00</td>\n",
       "      <td>0.00</td>\n",
       "      <td>0.00</td>\n",
       "      <td>0.00</td>\n",
       "      <td>1.0</td>\n",
       "    </tr>\n",
       "    <tr>\n",
       "      <th>prevalentStroke</th>\n",
       "      <td>3390.0</td>\n",
       "      <td>0.006490</td>\n",
       "      <td>0.080309</td>\n",
       "      <td>0.00</td>\n",
       "      <td>0.00</td>\n",
       "      <td>0.00</td>\n",
       "      <td>0.00</td>\n",
       "      <td>1.0</td>\n",
       "    </tr>\n",
       "    <tr>\n",
       "      <th>prevalentHyp</th>\n",
       "      <td>3390.0</td>\n",
       "      <td>0.315339</td>\n",
       "      <td>0.464719</td>\n",
       "      <td>0.00</td>\n",
       "      <td>0.00</td>\n",
       "      <td>0.00</td>\n",
       "      <td>1.00</td>\n",
       "      <td>1.0</td>\n",
       "    </tr>\n",
       "    <tr>\n",
       "      <th>diabetes</th>\n",
       "      <td>3390.0</td>\n",
       "      <td>0.025664</td>\n",
       "      <td>0.158153</td>\n",
       "      <td>0.00</td>\n",
       "      <td>0.00</td>\n",
       "      <td>0.00</td>\n",
       "      <td>0.00</td>\n",
       "      <td>1.0</td>\n",
       "    </tr>\n",
       "    <tr>\n",
       "      <th>totChol</th>\n",
       "      <td>3352.0</td>\n",
       "      <td>237.074284</td>\n",
       "      <td>45.247430</td>\n",
       "      <td>107.00</td>\n",
       "      <td>206.00</td>\n",
       "      <td>234.00</td>\n",
       "      <td>264.00</td>\n",
       "      <td>696.0</td>\n",
       "    </tr>\n",
       "    <tr>\n",
       "      <th>sysBP</th>\n",
       "      <td>3390.0</td>\n",
       "      <td>132.601180</td>\n",
       "      <td>22.292030</td>\n",
       "      <td>83.50</td>\n",
       "      <td>117.00</td>\n",
       "      <td>128.50</td>\n",
       "      <td>144.00</td>\n",
       "      <td>295.0</td>\n",
       "    </tr>\n",
       "    <tr>\n",
       "      <th>diaBP</th>\n",
       "      <td>3390.0</td>\n",
       "      <td>82.883038</td>\n",
       "      <td>12.023581</td>\n",
       "      <td>48.00</td>\n",
       "      <td>74.50</td>\n",
       "      <td>82.00</td>\n",
       "      <td>90.00</td>\n",
       "      <td>142.5</td>\n",
       "    </tr>\n",
       "    <tr>\n",
       "      <th>BMI</th>\n",
       "      <td>3376.0</td>\n",
       "      <td>25.794964</td>\n",
       "      <td>4.115449</td>\n",
       "      <td>15.96</td>\n",
       "      <td>23.02</td>\n",
       "      <td>25.38</td>\n",
       "      <td>28.04</td>\n",
       "      <td>56.8</td>\n",
       "    </tr>\n",
       "    <tr>\n",
       "      <th>heartRate</th>\n",
       "      <td>3389.0</td>\n",
       "      <td>75.977279</td>\n",
       "      <td>11.971868</td>\n",
       "      <td>45.00</td>\n",
       "      <td>68.00</td>\n",
       "      <td>75.00</td>\n",
       "      <td>83.00</td>\n",
       "      <td>143.0</td>\n",
       "    </tr>\n",
       "    <tr>\n",
       "      <th>glucose</th>\n",
       "      <td>3086.0</td>\n",
       "      <td>82.086520</td>\n",
       "      <td>24.244753</td>\n",
       "      <td>40.00</td>\n",
       "      <td>71.00</td>\n",
       "      <td>78.00</td>\n",
       "      <td>87.00</td>\n",
       "      <td>394.0</td>\n",
       "    </tr>\n",
       "    <tr>\n",
       "      <th>TenYearCHD</th>\n",
       "      <td>3390.0</td>\n",
       "      <td>0.150737</td>\n",
       "      <td>0.357846</td>\n",
       "      <td>0.00</td>\n",
       "      <td>0.00</td>\n",
       "      <td>0.00</td>\n",
       "      <td>0.00</td>\n",
       "      <td>1.0</td>\n",
       "    </tr>\n",
       "  </tbody>\n",
       "</table>\n",
       "</div>"
      ],
      "text/plain": [
       "                  count         mean         std     min     25%      50%  \\\n",
       "id               3390.0  1694.500000  978.753033    0.00  847.25  1694.50   \n",
       "age              3390.0    49.542183    8.592878   32.00   42.00    49.00   \n",
       "education        3303.0     1.970936    1.019081    1.00    1.00     2.00   \n",
       "cigsPerDay       3368.0     9.069477   11.879078    0.00    0.00     0.00   \n",
       "BPMeds           3346.0     0.029886    0.170299    0.00    0.00     0.00   \n",
       "prevalentStroke  3390.0     0.006490    0.080309    0.00    0.00     0.00   \n",
       "prevalentHyp     3390.0     0.315339    0.464719    0.00    0.00     0.00   \n",
       "diabetes         3390.0     0.025664    0.158153    0.00    0.00     0.00   \n",
       "totChol          3352.0   237.074284   45.247430  107.00  206.00   234.00   \n",
       "sysBP            3390.0   132.601180   22.292030   83.50  117.00   128.50   \n",
       "diaBP            3390.0    82.883038   12.023581   48.00   74.50    82.00   \n",
       "BMI              3376.0    25.794964    4.115449   15.96   23.02    25.38   \n",
       "heartRate        3389.0    75.977279   11.971868   45.00   68.00    75.00   \n",
       "glucose          3086.0    82.086520   24.244753   40.00   71.00    78.00   \n",
       "TenYearCHD       3390.0     0.150737    0.357846    0.00    0.00     0.00   \n",
       "\n",
       "                     75%     max  \n",
       "id               2541.75  3389.0  \n",
       "age                56.00    70.0  \n",
       "education           3.00     4.0  \n",
       "cigsPerDay         20.00    70.0  \n",
       "BPMeds              0.00     1.0  \n",
       "prevalentStroke     0.00     1.0  \n",
       "prevalentHyp        1.00     1.0  \n",
       "diabetes            0.00     1.0  \n",
       "totChol           264.00   696.0  \n",
       "sysBP             144.00   295.0  \n",
       "diaBP              90.00   142.5  \n",
       "BMI                28.04    56.8  \n",
       "heartRate          83.00   143.0  \n",
       "glucose            87.00   394.0  \n",
       "TenYearCHD          0.00     1.0  "
      ]
     },
     "execution_count": 6,
     "metadata": {},
     "output_type": "execute_result"
    }
   ],
   "source": [
    "# 5 number summary for each of the numerical columns\n",
    "data.describe().T   # .T will just give the transpose of the dataframe, easier to view"
   ]
  },
  {
   "cell_type": "markdown",
   "id": "826270fa-272e-4877-b65e-c97ecc7d940a",
   "metadata": {},
   "source": [
    "# Id serves no purpose for any of our analysis, so dropping the id column"
   ]
  },
  {
   "cell_type": "code",
   "execution_count": 7,
   "id": "65c8e6a6-2b2b-45f5-80d0-6683c70e088c",
   "metadata": {},
   "outputs": [
    {
     "data": {
      "text/html": [
       "<div>\n",
       "<style scoped>\n",
       "    .dataframe tbody tr th:only-of-type {\n",
       "        vertical-align: middle;\n",
       "    }\n",
       "\n",
       "    .dataframe tbody tr th {\n",
       "        vertical-align: top;\n",
       "    }\n",
       "\n",
       "    .dataframe thead th {\n",
       "        text-align: right;\n",
       "    }\n",
       "</style>\n",
       "<table border=\"1\" class=\"dataframe\">\n",
       "  <thead>\n",
       "    <tr style=\"text-align: right;\">\n",
       "      <th></th>\n",
       "      <th>age</th>\n",
       "      <th>education</th>\n",
       "      <th>sex</th>\n",
       "      <th>is_smoking</th>\n",
       "      <th>cigsPerDay</th>\n",
       "      <th>BPMeds</th>\n",
       "      <th>prevalentStroke</th>\n",
       "      <th>prevalentHyp</th>\n",
       "      <th>diabetes</th>\n",
       "      <th>totChol</th>\n",
       "      <th>sysBP</th>\n",
       "      <th>diaBP</th>\n",
       "      <th>BMI</th>\n",
       "      <th>heartRate</th>\n",
       "      <th>glucose</th>\n",
       "      <th>TenYearCHD</th>\n",
       "    </tr>\n",
       "  </thead>\n",
       "  <tbody>\n",
       "    <tr>\n",
       "      <th>0</th>\n",
       "      <td>64</td>\n",
       "      <td>2.0</td>\n",
       "      <td>F</td>\n",
       "      <td>YES</td>\n",
       "      <td>3.0</td>\n",
       "      <td>0.0</td>\n",
       "      <td>0</td>\n",
       "      <td>0</td>\n",
       "      <td>0</td>\n",
       "      <td>221.0</td>\n",
       "      <td>148.0</td>\n",
       "      <td>85.0</td>\n",
       "      <td>NaN</td>\n",
       "      <td>90.0</td>\n",
       "      <td>80.0</td>\n",
       "      <td>1</td>\n",
       "    </tr>\n",
       "    <tr>\n",
       "      <th>1</th>\n",
       "      <td>36</td>\n",
       "      <td>4.0</td>\n",
       "      <td>M</td>\n",
       "      <td>NO</td>\n",
       "      <td>0.0</td>\n",
       "      <td>0.0</td>\n",
       "      <td>0</td>\n",
       "      <td>1</td>\n",
       "      <td>0</td>\n",
       "      <td>212.0</td>\n",
       "      <td>168.0</td>\n",
       "      <td>98.0</td>\n",
       "      <td>29.77</td>\n",
       "      <td>72.0</td>\n",
       "      <td>75.0</td>\n",
       "      <td>0</td>\n",
       "    </tr>\n",
       "    <tr>\n",
       "      <th>2</th>\n",
       "      <td>46</td>\n",
       "      <td>1.0</td>\n",
       "      <td>F</td>\n",
       "      <td>YES</td>\n",
       "      <td>10.0</td>\n",
       "      <td>0.0</td>\n",
       "      <td>0</td>\n",
       "      <td>0</td>\n",
       "      <td>0</td>\n",
       "      <td>250.0</td>\n",
       "      <td>116.0</td>\n",
       "      <td>71.0</td>\n",
       "      <td>20.35</td>\n",
       "      <td>88.0</td>\n",
       "      <td>94.0</td>\n",
       "      <td>0</td>\n",
       "    </tr>\n",
       "    <tr>\n",
       "      <th>3</th>\n",
       "      <td>50</td>\n",
       "      <td>1.0</td>\n",
       "      <td>M</td>\n",
       "      <td>YES</td>\n",
       "      <td>20.0</td>\n",
       "      <td>0.0</td>\n",
       "      <td>0</td>\n",
       "      <td>1</td>\n",
       "      <td>0</td>\n",
       "      <td>233.0</td>\n",
       "      <td>158.0</td>\n",
       "      <td>88.0</td>\n",
       "      <td>28.26</td>\n",
       "      <td>68.0</td>\n",
       "      <td>94.0</td>\n",
       "      <td>1</td>\n",
       "    </tr>\n",
       "    <tr>\n",
       "      <th>4</th>\n",
       "      <td>64</td>\n",
       "      <td>1.0</td>\n",
       "      <td>F</td>\n",
       "      <td>YES</td>\n",
       "      <td>30.0</td>\n",
       "      <td>0.0</td>\n",
       "      <td>0</td>\n",
       "      <td>0</td>\n",
       "      <td>0</td>\n",
       "      <td>241.0</td>\n",
       "      <td>136.5</td>\n",
       "      <td>85.0</td>\n",
       "      <td>26.42</td>\n",
       "      <td>70.0</td>\n",
       "      <td>77.0</td>\n",
       "      <td>0</td>\n",
       "    </tr>\n",
       "    <tr>\n",
       "      <th>...</th>\n",
       "      <td>...</td>\n",
       "      <td>...</td>\n",
       "      <td>...</td>\n",
       "      <td>...</td>\n",
       "      <td>...</td>\n",
       "      <td>...</td>\n",
       "      <td>...</td>\n",
       "      <td>...</td>\n",
       "      <td>...</td>\n",
       "      <td>...</td>\n",
       "      <td>...</td>\n",
       "      <td>...</td>\n",
       "      <td>...</td>\n",
       "      <td>...</td>\n",
       "      <td>...</td>\n",
       "      <td>...</td>\n",
       "    </tr>\n",
       "    <tr>\n",
       "      <th>3385</th>\n",
       "      <td>60</td>\n",
       "      <td>1.0</td>\n",
       "      <td>F</td>\n",
       "      <td>NO</td>\n",
       "      <td>0.0</td>\n",
       "      <td>0.0</td>\n",
       "      <td>0</td>\n",
       "      <td>0</td>\n",
       "      <td>0</td>\n",
       "      <td>261.0</td>\n",
       "      <td>123.5</td>\n",
       "      <td>79.0</td>\n",
       "      <td>29.28</td>\n",
       "      <td>70.0</td>\n",
       "      <td>103.0</td>\n",
       "      <td>0</td>\n",
       "    </tr>\n",
       "    <tr>\n",
       "      <th>3386</th>\n",
       "      <td>46</td>\n",
       "      <td>1.0</td>\n",
       "      <td>F</td>\n",
       "      <td>NO</td>\n",
       "      <td>0.0</td>\n",
       "      <td>0.0</td>\n",
       "      <td>0</td>\n",
       "      <td>0</td>\n",
       "      <td>0</td>\n",
       "      <td>199.0</td>\n",
       "      <td>102.0</td>\n",
       "      <td>56.0</td>\n",
       "      <td>21.96</td>\n",
       "      <td>80.0</td>\n",
       "      <td>84.0</td>\n",
       "      <td>0</td>\n",
       "    </tr>\n",
       "    <tr>\n",
       "      <th>3387</th>\n",
       "      <td>44</td>\n",
       "      <td>3.0</td>\n",
       "      <td>M</td>\n",
       "      <td>YES</td>\n",
       "      <td>3.0</td>\n",
       "      <td>0.0</td>\n",
       "      <td>0</td>\n",
       "      <td>1</td>\n",
       "      <td>0</td>\n",
       "      <td>352.0</td>\n",
       "      <td>164.0</td>\n",
       "      <td>119.0</td>\n",
       "      <td>28.92</td>\n",
       "      <td>73.0</td>\n",
       "      <td>72.0</td>\n",
       "      <td>1</td>\n",
       "    </tr>\n",
       "    <tr>\n",
       "      <th>3388</th>\n",
       "      <td>60</td>\n",
       "      <td>1.0</td>\n",
       "      <td>M</td>\n",
       "      <td>NO</td>\n",
       "      <td>0.0</td>\n",
       "      <td>NaN</td>\n",
       "      <td>0</td>\n",
       "      <td>1</td>\n",
       "      <td>0</td>\n",
       "      <td>191.0</td>\n",
       "      <td>167.0</td>\n",
       "      <td>105.0</td>\n",
       "      <td>23.01</td>\n",
       "      <td>80.0</td>\n",
       "      <td>85.0</td>\n",
       "      <td>0</td>\n",
       "    </tr>\n",
       "    <tr>\n",
       "      <th>3389</th>\n",
       "      <td>54</td>\n",
       "      <td>3.0</td>\n",
       "      <td>F</td>\n",
       "      <td>NO</td>\n",
       "      <td>0.0</td>\n",
       "      <td>0.0</td>\n",
       "      <td>0</td>\n",
       "      <td>0</td>\n",
       "      <td>0</td>\n",
       "      <td>288.0</td>\n",
       "      <td>124.0</td>\n",
       "      <td>77.0</td>\n",
       "      <td>29.88</td>\n",
       "      <td>79.0</td>\n",
       "      <td>92.0</td>\n",
       "      <td>0</td>\n",
       "    </tr>\n",
       "  </tbody>\n",
       "</table>\n",
       "<p>3390 rows × 16 columns</p>\n",
       "</div>"
      ],
      "text/plain": [
       "      age  education sex is_smoking  cigsPerDay  BPMeds  prevalentStroke  \\\n",
       "0      64        2.0   F        YES         3.0     0.0                0   \n",
       "1      36        4.0   M         NO         0.0     0.0                0   \n",
       "2      46        1.0   F        YES        10.0     0.0                0   \n",
       "3      50        1.0   M        YES        20.0     0.0                0   \n",
       "4      64        1.0   F        YES        30.0     0.0                0   \n",
       "...   ...        ...  ..        ...         ...     ...              ...   \n",
       "3385   60        1.0   F         NO         0.0     0.0                0   \n",
       "3386   46        1.0   F         NO         0.0     0.0                0   \n",
       "3387   44        3.0   M        YES         3.0     0.0                0   \n",
       "3388   60        1.0   M         NO         0.0     NaN                0   \n",
       "3389   54        3.0   F         NO         0.0     0.0                0   \n",
       "\n",
       "      prevalentHyp  diabetes  totChol  sysBP  diaBP    BMI  heartRate  \\\n",
       "0                0         0    221.0  148.0   85.0    NaN       90.0   \n",
       "1                1         0    212.0  168.0   98.0  29.77       72.0   \n",
       "2                0         0    250.0  116.0   71.0  20.35       88.0   \n",
       "3                1         0    233.0  158.0   88.0  28.26       68.0   \n",
       "4                0         0    241.0  136.5   85.0  26.42       70.0   \n",
       "...            ...       ...      ...    ...    ...    ...        ...   \n",
       "3385             0         0    261.0  123.5   79.0  29.28       70.0   \n",
       "3386             0         0    199.0  102.0   56.0  21.96       80.0   \n",
       "3387             1         0    352.0  164.0  119.0  28.92       73.0   \n",
       "3388             1         0    191.0  167.0  105.0  23.01       80.0   \n",
       "3389             0         0    288.0  124.0   77.0  29.88       79.0   \n",
       "\n",
       "      glucose  TenYearCHD  \n",
       "0        80.0           1  \n",
       "1        75.0           0  \n",
       "2        94.0           0  \n",
       "3        94.0           1  \n",
       "4        77.0           0  \n",
       "...       ...         ...  \n",
       "3385    103.0           0  \n",
       "3386     84.0           0  \n",
       "3387     72.0           1  \n",
       "3388     85.0           0  \n",
       "3389     92.0           0  \n",
       "\n",
       "[3390 rows x 16 columns]"
      ]
     },
     "execution_count": 7,
     "metadata": {},
     "output_type": "execute_result"
    }
   ],
   "source": [
    "data = data.drop('id', axis = 1)\n",
    "data\n",
    "# axis = 1 to drop columns, axis = 0 to drop rows\n",
    "# default is axis = 0\n",
    "\n",
    "# need to provide a list if you want drop more than one column\n",
    "# example:\n",
    "#data = data.drop(['id','TenYearCHD'], axis = 1)"
   ]
  },
  {
   "cell_type": "markdown",
   "id": "5dbe47e9-a97b-4c8e-ba9b-d6c6e0859f68",
   "metadata": {},
   "source": [
    "## Data is not perfect"
   ]
  },
  {
   "cell_type": "markdown",
   "id": "30e5f33c-022a-430d-93de-789284c0babc",
   "metadata": {},
   "source": [
    "# Null Value Treatment"
   ]
  },
  {
   "cell_type": "markdown",
   "id": "93d9ed44-4c3a-4bbf-bf4f-6dc52e4b5325",
   "metadata": {},
   "source": [
    "## We need to use different kinds of imputation for numerical and categorical columns"
   ]
  },
  {
   "cell_type": "code",
   "execution_count": 8,
   "id": "8411c429-5a9a-4161-b23e-7d2976901d50",
   "metadata": {},
   "outputs": [
    {
     "data": {
      "text/plain": [
       "['age',\n",
       " 'education',\n",
       " 'cigsPerDay',\n",
       " 'BPMeds',\n",
       " 'prevalentStroke',\n",
       " 'prevalentHyp',\n",
       " 'diabetes',\n",
       " 'totChol',\n",
       " 'sysBP',\n",
       " 'diaBP',\n",
       " 'BMI',\n",
       " 'heartRate',\n",
       " 'glucose',\n",
       " 'TenYearCHD']"
      ]
     },
     "execution_count": 8,
     "metadata": {},
     "output_type": "execute_result"
    }
   ],
   "source": [
    "numeric_columns = data.select_dtypes(include=np.number).columns.tolist()\n",
    "numeric_columns"
   ]
  },
  {
   "cell_type": "markdown",
   "id": "d8509533-aec5-4a27-9245-58c38795b7e6",
   "metadata": {},
   "source": [
    "## You should be careful not to do imputation for Target variable(s)"
   ]
  },
  {
   "cell_type": "code",
   "execution_count": 9,
   "id": "58d77d9d-f801-4f69-b7ca-ee14ca4989ee",
   "metadata": {},
   "outputs": [],
   "source": [
    "numeric_columns.remove('TenYearCHD')"
   ]
  },
  {
   "cell_type": "code",
   "execution_count": 10,
   "id": "9c7461de-7160-4a31-a8d5-18deaa76ff26",
   "metadata": {},
   "outputs": [
    {
     "data": {
      "text/plain": [
       "['age',\n",
       " 'education',\n",
       " 'cigsPerDay',\n",
       " 'BPMeds',\n",
       " 'prevalentStroke',\n",
       " 'prevalentHyp',\n",
       " 'diabetes',\n",
       " 'totChol',\n",
       " 'sysBP',\n",
       " 'diaBP',\n",
       " 'BMI',\n",
       " 'heartRate',\n",
       " 'glucose']"
      ]
     },
     "execution_count": 10,
     "metadata": {},
     "output_type": "execute_result"
    }
   ],
   "source": [
    "numeric_columns"
   ]
  },
  {
   "cell_type": "code",
   "execution_count": 11,
   "id": "5b0e7547-5b98-47ff-a7ea-ef2e86759a5a",
   "metadata": {},
   "outputs": [
    {
     "data": {
      "text/plain": [
       "(3390, 13)"
      ]
     },
     "execution_count": 11,
     "metadata": {},
     "output_type": "execute_result"
    }
   ],
   "source": [
    "data[numeric_columns].shape"
   ]
  },
  {
   "cell_type": "code",
   "execution_count": 12,
   "id": "b5220ffd-4cc5-4b47-be0d-f2302da327ff",
   "metadata": {},
   "outputs": [
    {
     "data": {
      "text/plain": [
       "['sex', 'is_smoking']"
      ]
     },
     "execution_count": 12,
     "metadata": {},
     "output_type": "execute_result"
    }
   ],
   "source": [
    "categorical_columns = data.select_dtypes(include=object).columns.tolist()\n",
    "categorical_columns"
   ]
  },
  {
   "cell_type": "code",
   "execution_count": 13,
   "id": "cfe20bee-ab88-44cd-b3d6-ba80c99d5b0d",
   "metadata": {},
   "outputs": [
    {
     "data": {
      "text/plain": [
       "(3390, 2)"
      ]
     },
     "execution_count": 13,
     "metadata": {},
     "output_type": "execute_result"
    }
   ],
   "source": [
    "data[categorical_columns].shape"
   ]
  },
  {
   "cell_type": "code",
   "execution_count": 14,
   "id": "f20035f4-19de-4ab9-8f05-34dd23f71107",
   "metadata": {},
   "outputs": [
    {
     "data": {
      "text/plain": [
       "F    1923\n",
       "M    1467\n",
       "Name: sex, dtype: int64"
      ]
     },
     "execution_count": 14,
     "metadata": {},
     "output_type": "execute_result"
    }
   ],
   "source": [
    "data['sex'].value_counts()"
   ]
  },
  {
   "cell_type": "code",
   "execution_count": 15,
   "id": "aee5d74d-9967-4532-b7ce-29d387dc51d3",
   "metadata": {},
   "outputs": [
    {
     "data": {
      "text/plain": [
       "NO     1703\n",
       "YES    1687\n",
       "Name: is_smoking, dtype: int64"
      ]
     },
     "execution_count": 15,
     "metadata": {},
     "output_type": "execute_result"
    }
   ],
   "source": [
    "data['is_smoking'].value_counts()"
   ]
  },
  {
   "cell_type": "code",
   "execution_count": 16,
   "id": "21e136c0-8757-4a6e-962a-fc8ff22cede3",
   "metadata": {},
   "outputs": [
    {
     "data": {
      "text/plain": [
       "sex  is_smoking\n",
       "F    NO            1147\n",
       "M    YES            911\n",
       "F    YES            776\n",
       "M    NO             556\n",
       "dtype: int64"
      ]
     },
     "execution_count": 16,
     "metadata": {},
     "output_type": "execute_result"
    }
   ],
   "source": [
    "data[categorical_columns].value_counts()"
   ]
  },
  {
   "cell_type": "code",
   "execution_count": 17,
   "id": "e41a91d5-38c3-426a-b6cb-505b9f2515d8",
   "metadata": {},
   "outputs": [],
   "source": [
    "data[numeric_columns] = data[numeric_columns].fillna(data[numeric_columns].median())"
   ]
  },
  {
   "cell_type": "code",
   "execution_count": 18,
   "id": "a3f7c8b7-844a-4cd9-8e6f-1fa447df5aad",
   "metadata": {},
   "outputs": [],
   "source": [
    "data[categorical_columns] = data[categorical_columns].fillna(data[categorical_columns].mode())"
   ]
  },
  {
   "cell_type": "code",
   "execution_count": 19,
   "id": "193048f6-096e-43cd-88cf-107763b626e7",
   "metadata": {},
   "outputs": [
    {
     "data": {
      "text/plain": [
       "age                0\n",
       "education          0\n",
       "sex                0\n",
       "is_smoking         0\n",
       "cigsPerDay         0\n",
       "BPMeds             0\n",
       "prevalentStroke    0\n",
       "prevalentHyp       0\n",
       "diabetes           0\n",
       "totChol            0\n",
       "sysBP              0\n",
       "diaBP              0\n",
       "BMI                0\n",
       "heartRate          0\n",
       "glucose            0\n",
       "TenYearCHD         0\n",
       "dtype: int64"
      ]
     },
     "execution_count": 19,
     "metadata": {},
     "output_type": "execute_result"
    }
   ],
   "source": [
    "data.isnull().sum()"
   ]
  },
  {
   "cell_type": "code",
   "execution_count": 20,
   "id": "977604d9-6803-4c4d-97a9-54023a147b5c",
   "metadata": {},
   "outputs": [
    {
     "data": {
      "text/html": [
       "<div>\n",
       "<style scoped>\n",
       "    .dataframe tbody tr th:only-of-type {\n",
       "        vertical-align: middle;\n",
       "    }\n",
       "\n",
       "    .dataframe tbody tr th {\n",
       "        vertical-align: top;\n",
       "    }\n",
       "\n",
       "    .dataframe thead th {\n",
       "        text-align: right;\n",
       "    }\n",
       "</style>\n",
       "<table border=\"1\" class=\"dataframe\">\n",
       "  <thead>\n",
       "    <tr style=\"text-align: right;\">\n",
       "      <th></th>\n",
       "      <th>age</th>\n",
       "      <th>education</th>\n",
       "      <th>sex</th>\n",
       "      <th>is_smoking</th>\n",
       "      <th>cigsPerDay</th>\n",
       "      <th>BPMeds</th>\n",
       "      <th>prevalentStroke</th>\n",
       "      <th>prevalentHyp</th>\n",
       "      <th>diabetes</th>\n",
       "      <th>totChol</th>\n",
       "      <th>sysBP</th>\n",
       "      <th>diaBP</th>\n",
       "      <th>BMI</th>\n",
       "      <th>heartRate</th>\n",
       "      <th>glucose</th>\n",
       "      <th>TenYearCHD</th>\n",
       "    </tr>\n",
       "  </thead>\n",
       "  <tbody>\n",
       "    <tr>\n",
       "      <th>3385</th>\n",
       "      <td>60</td>\n",
       "      <td>1.0</td>\n",
       "      <td>F</td>\n",
       "      <td>NO</td>\n",
       "      <td>0.0</td>\n",
       "      <td>0.0</td>\n",
       "      <td>0</td>\n",
       "      <td>0</td>\n",
       "      <td>0</td>\n",
       "      <td>261.0</td>\n",
       "      <td>123.5</td>\n",
       "      <td>79.0</td>\n",
       "      <td>29.28</td>\n",
       "      <td>70.0</td>\n",
       "      <td>103.0</td>\n",
       "      <td>0</td>\n",
       "    </tr>\n",
       "    <tr>\n",
       "      <th>3386</th>\n",
       "      <td>46</td>\n",
       "      <td>1.0</td>\n",
       "      <td>F</td>\n",
       "      <td>NO</td>\n",
       "      <td>0.0</td>\n",
       "      <td>0.0</td>\n",
       "      <td>0</td>\n",
       "      <td>0</td>\n",
       "      <td>0</td>\n",
       "      <td>199.0</td>\n",
       "      <td>102.0</td>\n",
       "      <td>56.0</td>\n",
       "      <td>21.96</td>\n",
       "      <td>80.0</td>\n",
       "      <td>84.0</td>\n",
       "      <td>0</td>\n",
       "    </tr>\n",
       "    <tr>\n",
       "      <th>3387</th>\n",
       "      <td>44</td>\n",
       "      <td>3.0</td>\n",
       "      <td>M</td>\n",
       "      <td>YES</td>\n",
       "      <td>3.0</td>\n",
       "      <td>0.0</td>\n",
       "      <td>0</td>\n",
       "      <td>1</td>\n",
       "      <td>0</td>\n",
       "      <td>352.0</td>\n",
       "      <td>164.0</td>\n",
       "      <td>119.0</td>\n",
       "      <td>28.92</td>\n",
       "      <td>73.0</td>\n",
       "      <td>72.0</td>\n",
       "      <td>1</td>\n",
       "    </tr>\n",
       "    <tr>\n",
       "      <th>3388</th>\n",
       "      <td>60</td>\n",
       "      <td>1.0</td>\n",
       "      <td>M</td>\n",
       "      <td>NO</td>\n",
       "      <td>0.0</td>\n",
       "      <td>0.0</td>\n",
       "      <td>0</td>\n",
       "      <td>1</td>\n",
       "      <td>0</td>\n",
       "      <td>191.0</td>\n",
       "      <td>167.0</td>\n",
       "      <td>105.0</td>\n",
       "      <td>23.01</td>\n",
       "      <td>80.0</td>\n",
       "      <td>85.0</td>\n",
       "      <td>0</td>\n",
       "    </tr>\n",
       "    <tr>\n",
       "      <th>3389</th>\n",
       "      <td>54</td>\n",
       "      <td>3.0</td>\n",
       "      <td>F</td>\n",
       "      <td>NO</td>\n",
       "      <td>0.0</td>\n",
       "      <td>0.0</td>\n",
       "      <td>0</td>\n",
       "      <td>0</td>\n",
       "      <td>0</td>\n",
       "      <td>288.0</td>\n",
       "      <td>124.0</td>\n",
       "      <td>77.0</td>\n",
       "      <td>29.88</td>\n",
       "      <td>79.0</td>\n",
       "      <td>92.0</td>\n",
       "      <td>0</td>\n",
       "    </tr>\n",
       "  </tbody>\n",
       "</table>\n",
       "</div>"
      ],
      "text/plain": [
       "      age  education sex is_smoking  cigsPerDay  BPMeds  prevalentStroke  \\\n",
       "3385   60        1.0   F         NO         0.0     0.0                0   \n",
       "3386   46        1.0   F         NO         0.0     0.0                0   \n",
       "3387   44        3.0   M        YES         3.0     0.0                0   \n",
       "3388   60        1.0   M         NO         0.0     0.0                0   \n",
       "3389   54        3.0   F         NO         0.0     0.0                0   \n",
       "\n",
       "      prevalentHyp  diabetes  totChol  sysBP  diaBP    BMI  heartRate  \\\n",
       "3385             0         0    261.0  123.5   79.0  29.28       70.0   \n",
       "3386             0         0    199.0  102.0   56.0  21.96       80.0   \n",
       "3387             1         0    352.0  164.0  119.0  28.92       73.0   \n",
       "3388             1         0    191.0  167.0  105.0  23.01       80.0   \n",
       "3389             0         0    288.0  124.0   77.0  29.88       79.0   \n",
       "\n",
       "      glucose  TenYearCHD  \n",
       "3385    103.0           0  \n",
       "3386     84.0           0  \n",
       "3387     72.0           1  \n",
       "3388     85.0           0  \n",
       "3389     92.0           0  "
      ]
     },
     "execution_count": 20,
     "metadata": {},
     "output_type": "execute_result"
    }
   ],
   "source": [
    "data.tail()"
   ]
  },
  {
   "cell_type": "markdown",
   "id": "1fb28134-acb8-48ef-a882-6505ddfb18b6",
   "metadata": {},
   "source": [
    "# Other Methods for treating NULL values"
   ]
  },
  {
   "cell_type": "markdown",
   "id": "85cde6fa-9743-4636-a5c1-af7e982990c6",
   "metadata": {},
   "source": [
    "1. Dropping the Rows/Columns containing the null values"
   ]
  },
  {
   "cell_type": "code",
   "execution_count": 21,
   "id": "d4505d80-c1a0-4337-b218-a52255779ff5",
   "metadata": {},
   "outputs": [],
   "source": [
    "# Drop all rows containing null values\n",
    "#data = data.dropna()\n",
    "\n",
    "# Drop columns containing null values\n",
    "#data = data.dropna(axis = 1)\n",
    "\n",
    "# by default the axis is 0\n",
    "\n",
    "# you can choose to drop the rows containing nulls in only particular columns\n",
    "# data = data.dropna(subset=['TenYearCHD','glucose'])"
   ]
  },
  {
   "cell_type": "markdown",
   "id": "0750963e-1cd0-4205-bf5b-9df227539ea7",
   "metadata": {},
   "source": [
    "If there are large number of nulls in a particular column, it is better to drop that column rather than dropping the rows associated with the nulls in that column\n",
    "\n",
    "What does Large mean?\n",
    "\n",
    "It DEPENDS!! on the dataset\n",
    "\n",
    "Also Calls for your judgement"
   ]
  },
  {
   "cell_type": "markdown",
   "id": "1f692be0-3497-4353-abcc-704606edbd0d",
   "metadata": {},
   "source": [
    "2. KNN Imputation"
   ]
  },
  {
   "cell_type": "code",
   "execution_count": 22,
   "id": "f716ef54-37d2-451d-80dd-6e70162f6267",
   "metadata": {},
   "outputs": [],
   "source": [
    "# Create the KNN imputer\n",
    "#imputer = KNNImputer(n_neighbors=3)\n",
    "\n",
    "#imputed_data = imputer.fit_transform(data)\n",
    "\n",
    "#imputed_data = pd.DataFrame(imputed_data, columns=data.columns)"
   ]
  },
  {
   "cell_type": "markdown",
   "id": "6bd42bee-87c2-4e74-854b-92332077e249",
   "metadata": {},
   "source": [
    "# Drop duplicate rows if any"
   ]
  },
  {
   "cell_type": "code",
   "execution_count": 23,
   "id": "726eca5c-ba31-4b10-b476-fdd5cce105ff",
   "metadata": {},
   "outputs": [
    {
     "data": {
      "text/plain": [
       "(3390, 16)"
      ]
     },
     "execution_count": 23,
     "metadata": {},
     "output_type": "execute_result"
    }
   ],
   "source": [
    "data.shape"
   ]
  },
  {
   "cell_type": "code",
   "execution_count": 24,
   "id": "420a45c8-f163-4ab4-8d37-9782741959b0",
   "metadata": {},
   "outputs": [
    {
     "data": {
      "text/plain": [
       "(3390, 16)"
      ]
     },
     "execution_count": 24,
     "metadata": {},
     "output_type": "execute_result"
    }
   ],
   "source": [
    "data = data.drop_duplicates(keep='first')\n",
    "data.shape"
   ]
  },
  {
   "cell_type": "markdown",
   "id": "694bc83f-889b-4107-9daf-a958064fdf20",
   "metadata": {},
   "source": [
    "## Exploratory Data Analysis"
   ]
  },
  {
   "cell_type": "code",
   "execution_count": 25,
   "id": "aa3ab5ec-5c2c-49c4-9f6d-d049ded18b3d",
   "metadata": {},
   "outputs": [
    {
     "name": "stdout",
     "output_type": "stream",
     "text": [
      "\n",
      "\n"
     ]
    },
    {
     "data": {
      "image/png": "[encoded data removed]",
      "text/plain": [
       "<Figure size 1152x432 with 2 Axes>"
      ]
     },
     "metadata": {
      "needs_background": "light"
     },
     "output_type": "display_data"
    },
    {
     "name": "stdout",
     "output_type": "stream",
     "text": [
      "\n",
      "\n"
     ]
    },
    {
     "data": {
      "image/png": "[encoded data removed]",
      "text/plain": [
       "<Figure size 1152x432 with 2 Axes>"
      ]
     },
     "metadata": {
      "needs_background": "light"
     },
     "output_type": "display_data"
    },
    {
     "name": "stdout",
     "output_type": "stream",
     "text": [
      "\n",
      "\n"
     ]
    },
    {
     "data": {
      "image/png": "[encoded data removed]",
      "text/plain": [
       "<Figure size 1152x432 with 2 Axes>"
      ]
     },
     "metadata": {
      "needs_background": "light"
     },
     "output_type": "display_data"
    },
    {
     "name": "stdout",
     "output_type": "stream",
     "text": [
      "\n",
      "\n"
     ]
    },
    {
     "data": {
      "image/png": "[encoded data removed]",
      "text/plain": [
       "<Figure size 1152x432 with 2 Axes>"
      ]
     },
     "metadata": {
      "needs_background": "light"
     },
     "output_type": "display_data"
    },
    {
     "name": "stdout",
     "output_type": "stream",
     "text": [
      "\n",
      "\n"
     ]
    },
    {
     "data": {
      "image/png": "[encoded data removed]",
      "text/plain": [
       "<Figure size 1152x432 with 2 Axes>"
      ]
     },
     "metadata": {
      "needs_background": "light"
     },
     "output_type": "display_data"
    },
    {
     "name": "stdout",
     "output_type": "stream",
     "text": [
      "\n",
      "\n"
     ]
    },
    {
     "data": {
      "image/png": "[encoded data removed]",
      "text/plain": [
       "<Figure size 1152x432 with 2 Axes>"
      ]
     },
     "metadata": {
      "needs_background": "light"
     },
     "output_type": "display_data"
    },
    {
     "name": "stdout",
     "output_type": "stream",
     "text": [
      "\n",
      "\n"
     ]
    },
    {
     "data": {
      "image/png": "[encoded data removed]",
      "text/plain": [
       "<Figure size 1152x432 with 2 Axes>"
      ]
     },
     "metadata": {
      "needs_background": "light"
     },
     "output_type": "display_data"
    },
    {
     "name": "stdout",
     "output_type": "stream",
     "text": [
      "\n",
      "\n"
     ]
    },
    {
     "data": {
      "image/png": "[encoded data removed]",
      "text/plain": [
       "<Figure size 1152x432 with 2 Axes>"
      ]
     },
     "metadata": {
      "needs_background": "light"
     },
     "output_type": "display_data"
    },
    {
     "name": "stdout",
     "output_type": "stream",
     "text": [
      "\n",
      "\n"
     ]
    },
    {
     "data": {
      "image/png": "[encoded data removed]",
      "text/plain": [
       "<Figure size 1152x432 with 2 Axes>"
      ]
     },
     "metadata": {
      "needs_background": "light"
     },
     "output_type": "display_data"
    },
    {
     "name": "stdout",
     "output_type": "stream",
     "text": [
      "\n",
      "\n"
     ]
    },
    {
     "data": {
      "image/png": "[encoded data removed]",
      "text/plain": [
       "<Figure size 1152x432 with 2 Axes>"
      ]
     },
     "metadata": {
      "needs_background": "light"
     },
     "output_type": "display_data"
    },
    {
     "name": "stdout",
     "output_type": "stream",
     "text": [
      "\n",
      "\n"
     ]
    },
    {
     "data": {
      "image/png": "[encoded data removed]",
      "text/plain": [
       "<Figure size 1152x432 with 2 Axes>"
      ]
     },
     "metadata": {
      "needs_background": "light"
     },
     "output_type": "display_data"
    },
    {
     "name": "stdout",
     "output_type": "stream",
     "text": [
      "\n",
      "\n"
     ]
    },
    {
     "data": {
      "image/png": "[encoded data removed]",
      "text/plain": [
       "<Figure size 1152x432 with 2 Axes>"
      ]
     },
     "metadata": {
      "needs_background": "light"
     },
     "output_type": "display_data"
    },
    {
     "name": "stdout",
     "output_type": "stream",
     "text": [
      "\n",
      "\n"
     ]
    },
    {
     "data": {
      "image/png": "[encoded data removed]",
      "text/plain": [
       "<Figure size 1152x432 with 2 Axes>"
      ]
     },
     "metadata": {
      "needs_background": "light"
     },
     "output_type": "display_data"
    }
   ],
   "source": [
    "for col in numeric_columns:\n",
    "    plt.figure(figsize=(16, 6))\n",
    "    plt.subplot(2, 1, 1)\n",
    "    plt.title(\"----------   \" + col + \"   ----------\")\n",
    "    sns.boxplot(data=data, x=col, showmeans=True, color=\"violet\")\n",
    "    plt.subplot(2, 1, 2)\n",
    "    sns.histplot(data=data, x=col)\n",
    "    plt.axvline(data[col].mean(), color=\"red\", linestyle=\"-\")\n",
    "    plt.axvline(data[col].median(), color=\"green\", linestyle=\"--\")\n",
    "    print('\\n')\n",
    "    plt.show()"
   ]
  },
  {
   "cell_type": "code",
   "execution_count": 26,
   "id": "5b3f80f9-1de1-4c88-a9b6-cf6a89803fbd",
   "metadata": {},
   "outputs": [
    {
     "data": {
      "image/png": "[encoded data removed]",
      "text/plain": [
       "<Figure size 432x288 with 1 Axes>"
      ]
     },
     "metadata": {
      "needs_background": "light"
     },
     "output_type": "display_data"
    },
    {
     "name": "stdout",
     "output_type": "stream",
     "text": [
      "\n",
      "\n"
     ]
    },
    {
     "data": {
      "image/png": "[encoded data removed]",
      "text/plain": [
       "<Figure size 432x288 with 1 Axes>"
      ]
     },
     "metadata": {
      "needs_background": "light"
     },
     "output_type": "display_data"
    },
    {
     "name": "stdout",
     "output_type": "stream",
     "text": [
      "\n",
      "\n"
     ]
    }
   ],
   "source": [
    "for col in categorical_columns:\n",
    "    sns.countplot(data=data[categorical_columns], x=col)\n",
    "    plt.show()\n",
    "    print('\\n')"
   ]
  },
  {
   "cell_type": "markdown",
   "id": "9e808538-3de2-4464-83c6-8ea02631b4aa",
   "metadata": {},
   "source": [
    "## Bivariate Analyses"
   ]
  },
  {
   "cell_type": "code",
   "execution_count": 27,
   "id": "b3fb8485-dc1a-4e9d-abda-76c49716e408",
   "metadata": {},
   "outputs": [
    {
     "data": {
      "text/html": [
       "<div>\n",
       "<style scoped>\n",
       "    .dataframe tbody tr th:only-of-type {\n",
       "        vertical-align: middle;\n",
       "    }\n",
       "\n",
       "    .dataframe tbody tr th {\n",
       "        vertical-align: top;\n",
       "    }\n",
       "\n",
       "    .dataframe thead th {\n",
       "        text-align: right;\n",
       "    }\n",
       "</style>\n",
       "<table border=\"1\" class=\"dataframe\">\n",
       "  <thead>\n",
       "    <tr style=\"text-align: right;\">\n",
       "      <th></th>\n",
       "      <th>age</th>\n",
       "      <th>education</th>\n",
       "      <th>cigsPerDay</th>\n",
       "      <th>BPMeds</th>\n",
       "      <th>prevalentStroke</th>\n",
       "      <th>prevalentHyp</th>\n",
       "      <th>diabetes</th>\n",
       "      <th>totChol</th>\n",
       "      <th>sysBP</th>\n",
       "      <th>diaBP</th>\n",
       "      <th>BMI</th>\n",
       "      <th>heartRate</th>\n",
       "      <th>glucose</th>\n",
       "    </tr>\n",
       "  </thead>\n",
       "  <tbody>\n",
       "    <tr>\n",
       "      <th>age</th>\n",
       "      <td>1.000000</td>\n",
       "      <td>-0.170171</td>\n",
       "      <td>-0.191465</td>\n",
       "      <td>0.122114</td>\n",
       "      <td>0.059038</td>\n",
       "      <td>0.308826</td>\n",
       "      <td>0.107875</td>\n",
       "      <td>0.271961</td>\n",
       "      <td>0.404845</td>\n",
       "      <td>0.221896</td>\n",
       "      <td>0.137478</td>\n",
       "      <td>-0.002636</td>\n",
       "      <td>0.112395</td>\n",
       "    </tr>\n",
       "    <tr>\n",
       "      <th>education</th>\n",
       "      <td>-0.170171</td>\n",
       "      <td>1.000000</td>\n",
       "      <td>0.010460</td>\n",
       "      <td>-0.019359</td>\n",
       "      <td>-0.034250</td>\n",
       "      <td>-0.083778</td>\n",
       "      <td>-0.051073</td>\n",
       "      <td>-0.020029</td>\n",
       "      <td>-0.135802</td>\n",
       "      <td>-0.060180</td>\n",
       "      <td>-0.131462</td>\n",
       "      <td>-0.046664</td>\n",
       "      <td>-0.037524</td>\n",
       "    </tr>\n",
       "    <tr>\n",
       "      <th>cigsPerDay</th>\n",
       "      <td>-0.191465</td>\n",
       "      <td>0.010460</td>\n",
       "      <td>1.000000</td>\n",
       "      <td>-0.035727</td>\n",
       "      <td>-0.041576</td>\n",
       "      <td>-0.078003</td>\n",
       "      <td>-0.048114</td>\n",
       "      <td>-0.025346</td>\n",
       "      <td>-0.100348</td>\n",
       "      <td>-0.068320</td>\n",
       "      <td>-0.099830</td>\n",
       "      <td>0.066229</td>\n",
       "      <td>-0.066374</td>\n",
       "    </tr>\n",
       "    <tr>\n",
       "      <th>BPMeds</th>\n",
       "      <td>0.122114</td>\n",
       "      <td>-0.019359</td>\n",
       "      <td>-0.035727</td>\n",
       "      <td>1.000000</td>\n",
       "      <td>0.116183</td>\n",
       "      <td>0.256892</td>\n",
       "      <td>0.070932</td>\n",
       "      <td>0.080918</td>\n",
       "      <td>0.260384</td>\n",
       "      <td>0.198780</td>\n",
       "      <td>0.087648</td>\n",
       "      <td>0.018107</td>\n",
       "      <td>0.061356</td>\n",
       "    </tr>\n",
       "    <tr>\n",
       "      <th>prevalentStroke</th>\n",
       "      <td>0.059038</td>\n",
       "      <td>-0.034250</td>\n",
       "      <td>-0.041576</td>\n",
       "      <td>0.116183</td>\n",
       "      <td>1.000000</td>\n",
       "      <td>0.071652</td>\n",
       "      <td>0.010115</td>\n",
       "      <td>-0.010769</td>\n",
       "      <td>0.057568</td>\n",
       "      <td>0.047235</td>\n",
       "      <td>0.017032</td>\n",
       "      <td>-0.019183</td>\n",
       "      <td>0.023662</td>\n",
       "    </tr>\n",
       "    <tr>\n",
       "      <th>prevalentHyp</th>\n",
       "      <td>0.308826</td>\n",
       "      <td>-0.083778</td>\n",
       "      <td>-0.078003</td>\n",
       "      <td>0.256892</td>\n",
       "      <td>0.071652</td>\n",
       "      <td>1.000000</td>\n",
       "      <td>0.082565</td>\n",
       "      <td>0.158693</td>\n",
       "      <td>0.699285</td>\n",
       "      <td>0.612897</td>\n",
       "      <td>0.299615</td>\n",
       "      <td>0.150731</td>\n",
       "      <td>0.082962</td>\n",
       "    </tr>\n",
       "    <tr>\n",
       "      <th>diabetes</th>\n",
       "      <td>0.107875</td>\n",
       "      <td>-0.051073</td>\n",
       "      <td>-0.048114</td>\n",
       "      <td>0.070932</td>\n",
       "      <td>0.010115</td>\n",
       "      <td>0.082565</td>\n",
       "      <td>1.000000</td>\n",
       "      <td>0.059194</td>\n",
       "      <td>0.124011</td>\n",
       "      <td>0.061165</td>\n",
       "      <td>0.087793</td>\n",
       "      <td>0.039746</td>\n",
       "      <td>0.609743</td>\n",
       "    </tr>\n",
       "    <tr>\n",
       "      <th>totChol</th>\n",
       "      <td>0.271961</td>\n",
       "      <td>-0.020029</td>\n",
       "      <td>-0.025346</td>\n",
       "      <td>0.080918</td>\n",
       "      <td>-0.010769</td>\n",
       "      <td>0.158693</td>\n",
       "      <td>0.059194</td>\n",
       "      <td>1.000000</td>\n",
       "      <td>0.197848</td>\n",
       "      <td>0.153825</td>\n",
       "      <td>0.113452</td>\n",
       "      <td>0.086955</td>\n",
       "      <td>0.060913</td>\n",
       "    </tr>\n",
       "    <tr>\n",
       "      <th>sysBP</th>\n",
       "      <td>0.404845</td>\n",
       "      <td>-0.135802</td>\n",
       "      <td>-0.100348</td>\n",
       "      <td>0.260384</td>\n",
       "      <td>0.057568</td>\n",
       "      <td>0.699285</td>\n",
       "      <td>0.124011</td>\n",
       "      <td>0.197848</td>\n",
       "      <td>1.000000</td>\n",
       "      <td>0.781908</td>\n",
       "      <td>0.331730</td>\n",
       "      <td>0.178135</td>\n",
       "      <td>0.137832</td>\n",
       "    </tr>\n",
       "    <tr>\n",
       "      <th>diaBP</th>\n",
       "      <td>0.221896</td>\n",
       "      <td>-0.060180</td>\n",
       "      <td>-0.068320</td>\n",
       "      <td>0.198780</td>\n",
       "      <td>0.047235</td>\n",
       "      <td>0.612897</td>\n",
       "      <td>0.061165</td>\n",
       "      <td>0.153825</td>\n",
       "      <td>0.781908</td>\n",
       "      <td>1.000000</td>\n",
       "      <td>0.379684</td>\n",
       "      <td>0.174908</td>\n",
       "      <td>0.069097</td>\n",
       "    </tr>\n",
       "    <tr>\n",
       "      <th>BMI</th>\n",
       "      <td>0.137478</td>\n",
       "      <td>-0.131462</td>\n",
       "      <td>-0.099830</td>\n",
       "      <td>0.087648</td>\n",
       "      <td>0.017032</td>\n",
       "      <td>0.299615</td>\n",
       "      <td>0.087793</td>\n",
       "      <td>0.113452</td>\n",
       "      <td>0.331730</td>\n",
       "      <td>0.379684</td>\n",
       "      <td>1.000000</td>\n",
       "      <td>0.069491</td>\n",
       "      <td>0.088502</td>\n",
       "    </tr>\n",
       "    <tr>\n",
       "      <th>heartRate</th>\n",
       "      <td>-0.002636</td>\n",
       "      <td>-0.046664</td>\n",
       "      <td>0.066229</td>\n",
       "      <td>0.018107</td>\n",
       "      <td>-0.019183</td>\n",
       "      <td>0.150731</td>\n",
       "      <td>0.039746</td>\n",
       "      <td>0.086955</td>\n",
       "      <td>0.178135</td>\n",
       "      <td>0.174908</td>\n",
       "      <td>0.069491</td>\n",
       "      <td>1.000000</td>\n",
       "      <td>0.081516</td>\n",
       "    </tr>\n",
       "    <tr>\n",
       "      <th>glucose</th>\n",
       "      <td>0.112395</td>\n",
       "      <td>-0.037524</td>\n",
       "      <td>-0.066374</td>\n",
       "      <td>0.061356</td>\n",
       "      <td>0.023662</td>\n",
       "      <td>0.082962</td>\n",
       "      <td>0.609743</td>\n",
       "      <td>0.060913</td>\n",
       "      <td>0.137832</td>\n",
       "      <td>0.069097</td>\n",
       "      <td>0.088502</td>\n",
       "      <td>0.081516</td>\n",
       "      <td>1.000000</td>\n",
       "    </tr>\n",
       "  </tbody>\n",
       "</table>\n",
       "</div>"
      ],
      "text/plain": [
       "                      age  education  cigsPerDay    BPMeds  prevalentStroke  \\\n",
       "age              1.000000  -0.170171   -0.191465  0.122114         0.059038   \n",
       "education       -0.170171   1.000000    0.010460 -0.019359        -0.034250   \n",
       "cigsPerDay      -0.191465   0.010460    1.000000 -0.035727        -0.041576   \n",
       "BPMeds           0.122114  -0.019359   -0.035727  1.000000         0.116183   \n",
       "prevalentStroke  0.059038  -0.034250   -0.041576  0.116183         1.000000   \n",
       "prevalentHyp     0.308826  -0.083778   -0.078003  0.256892         0.071652   \n",
       "diabetes         0.107875  -0.051073   -0.048114  0.070932         0.010115   \n",
       "totChol          0.271961  -0.020029   -0.025346  0.080918        -0.010769   \n",
       "sysBP            0.404845  -0.135802   -0.100348  0.260384         0.057568   \n",
       "diaBP            0.221896  -0.060180   -0.068320  0.198780         0.047235   \n",
       "BMI              0.137478  -0.131462   -0.099830  0.087648         0.017032   \n",
       "heartRate       -0.002636  -0.046664    0.066229  0.018107        -0.019183   \n",
       "glucose          0.112395  -0.037524   -0.066374  0.061356         0.023662   \n",
       "\n",
       "                 prevalentHyp  diabetes   totChol     sysBP     diaBP  \\\n",
       "age                  0.308826  0.107875  0.271961  0.404845  0.221896   \n",
       "education           -0.083778 -0.051073 -0.020029 -0.135802 -0.060180   \n",
       "cigsPerDay          -0.078003 -0.048114 -0.025346 -0.100348 -0.068320   \n",
       "BPMeds               0.256892  0.070932  0.080918  0.260384  0.198780   \n",
       "prevalentStroke      0.071652  0.010115 -0.010769  0.057568  0.047235   \n",
       "prevalentHyp         1.000000  0.082565  0.158693  0.699285  0.612897   \n",
       "diabetes             0.082565  1.000000  0.059194  0.124011  0.061165   \n",
       "totChol              0.158693  0.059194  1.000000  0.197848  0.153825   \n",
       "sysBP                0.699285  0.124011  0.197848  1.000000  0.781908   \n",
       "diaBP                0.612897  0.061165  0.153825  0.781908  1.000000   \n",
       "BMI                  0.299615  0.087793  0.113452  0.331730  0.379684   \n",
       "heartRate            0.150731  0.039746  0.086955  0.178135  0.174908   \n",
       "glucose              0.082962  0.609743  0.060913  0.137832  0.069097   \n",
       "\n",
       "                      BMI  heartRate   glucose  \n",
       "age              0.137478  -0.002636  0.112395  \n",
       "education       -0.131462  -0.046664 -0.037524  \n",
       "cigsPerDay      -0.099830   0.066229 -0.066374  \n",
       "BPMeds           0.087648   0.018107  0.061356  \n",
       "prevalentStroke  0.017032  -0.019183  0.023662  \n",
       "prevalentHyp     0.299615   0.150731  0.082962  \n",
       "diabetes         0.087793   0.039746  0.609743  \n",
       "totChol          0.113452   0.086955  0.060913  \n",
       "sysBP            0.331730   0.178135  0.137832  \n",
       "diaBP            0.379684   0.174908  0.069097  \n",
       "BMI              1.000000   0.069491  0.088502  \n",
       "heartRate        0.069491   1.000000  0.081516  \n",
       "glucose          0.088502   0.081516  1.000000  "
      ]
     },
     "execution_count": 27,
     "metadata": {},
     "output_type": "execute_result"
    }
   ],
   "source": [
    "data[numeric_columns].corr()"
   ]
  },
  {
   "cell_type": "code",
   "execution_count": 28,
   "id": "b9be2dbb-41ed-4f6a-9f21-f27f50baaaf8",
   "metadata": {},
   "outputs": [
    {
     "data": {
      "image/png": "[encoded data removed]",
      "text/plain": [
       "<Figure size 1080x504 with 2 Axes>"
      ]
     },
     "metadata": {
      "needs_background": "light"
     },
     "output_type": "display_data"
    }
   ],
   "source": [
    "# correlation heatmap\n",
    "plt.figure(figsize=(15, 7))\n",
    "sns.heatmap(data[numeric_columns].corr(), annot=True, vmin=-1, vmax=1, fmt=\".2f\", cmap=\"Spectral\")\n",
    "plt.show()"
   ]
  },
  {
   "cell_type": "markdown",
   "id": "503b1eee-c3bd-4305-9ffb-0bf331f3ff3c",
   "metadata": {},
   "source": [
    "## OUTLIER Treatment"
   ]
  },
  {
   "cell_type": "code",
   "execution_count": 29,
   "id": "88ceac8a-89bc-423a-97ff-150b2ad3d568",
   "metadata": {},
   "outputs": [
    {
     "data": {
      "text/html": [
       "<div>\n",
       "<style scoped>\n",
       "    .dataframe tbody tr th:only-of-type {\n",
       "        vertical-align: middle;\n",
       "    }\n",
       "\n",
       "    .dataframe tbody tr th {\n",
       "        vertical-align: top;\n",
       "    }\n",
       "\n",
       "    .dataframe thead th {\n",
       "        text-align: right;\n",
       "    }\n",
       "</style>\n",
       "<table border=\"1\" class=\"dataframe\">\n",
       "  <thead>\n",
       "    <tr style=\"text-align: right;\">\n",
       "      <th></th>\n",
       "      <th>age</th>\n",
       "      <th>education</th>\n",
       "      <th>sex</th>\n",
       "      <th>is_smoking</th>\n",
       "      <th>cigsPerDay</th>\n",
       "      <th>BPMeds</th>\n",
       "      <th>prevalentStroke</th>\n",
       "      <th>prevalentHyp</th>\n",
       "      <th>diabetes</th>\n",
       "      <th>totChol</th>\n",
       "      <th>sysBP</th>\n",
       "      <th>diaBP</th>\n",
       "      <th>BMI</th>\n",
       "      <th>heartRate</th>\n",
       "      <th>glucose</th>\n",
       "      <th>TenYearCHD</th>\n",
       "    </tr>\n",
       "  </thead>\n",
       "  <tbody>\n",
       "    <tr>\n",
       "      <th>423</th>\n",
       "      <td>52</td>\n",
       "      <td>2.0</td>\n",
       "      <td>F</td>\n",
       "      <td>NO</td>\n",
       "      <td>0.0</td>\n",
       "      <td>0.0</td>\n",
       "      <td>0</td>\n",
       "      <td>1</td>\n",
       "      <td>1</td>\n",
       "      <td>600.0</td>\n",
       "      <td>159.5</td>\n",
       "      <td>94.0</td>\n",
       "      <td>28.27</td>\n",
       "      <td>78.0</td>\n",
       "      <td>140.0</td>\n",
       "      <td>1</td>\n",
       "    </tr>\n",
       "    <tr>\n",
       "      <th>512</th>\n",
       "      <td>51</td>\n",
       "      <td>2.0</td>\n",
       "      <td>M</td>\n",
       "      <td>YES</td>\n",
       "      <td>9.0</td>\n",
       "      <td>0.0</td>\n",
       "      <td>0</td>\n",
       "      <td>1</td>\n",
       "      <td>0</td>\n",
       "      <td>696.0</td>\n",
       "      <td>157.0</td>\n",
       "      <td>87.0</td>\n",
       "      <td>24.44</td>\n",
       "      <td>95.0</td>\n",
       "      <td>84.0</td>\n",
       "      <td>0</td>\n",
       "    </tr>\n",
       "  </tbody>\n",
       "</table>\n",
       "</div>"
      ],
      "text/plain": [
       "     age  education sex is_smoking  cigsPerDay  BPMeds  prevalentStroke  \\\n",
       "423   52        2.0   F         NO         0.0     0.0                0   \n",
       "512   51        2.0   M        YES         9.0     0.0                0   \n",
       "\n",
       "     prevalentHyp  diabetes  totChol  sysBP  diaBP    BMI  heartRate  glucose  \\\n",
       "423             1         1    600.0  159.5   94.0  28.27       78.0    140.0   \n",
       "512             1         0    696.0  157.0   87.0  24.44       95.0     84.0   \n",
       "\n",
       "     TenYearCHD  \n",
       "423           1  \n",
       "512           0  "
      ]
     },
     "execution_count": 29,
     "metadata": {},
     "output_type": "execute_result"
    }
   ],
   "source": [
    "data[data['totChol'] > 500]"
   ]
  },
  {
   "cell_type": "code",
   "execution_count": 30,
   "id": "a8474409-8c25-4367-819e-a28b4f7e74ec",
   "metadata": {},
   "outputs": [],
   "source": [
    "rows_drop = data[data['totChol'] > 500].index"
   ]
  },
  {
   "cell_type": "code",
   "execution_count": 31,
   "id": "a6409310-63fa-4efa-af81-01e96585b49c",
   "metadata": {},
   "outputs": [],
   "source": [
    "data = data.drop(rows_drop)"
   ]
  },
  {
   "cell_type": "code",
   "execution_count": 32,
   "id": "dafe1ddd-39fb-4b73-8553-079d7011ff76",
   "metadata": {},
   "outputs": [
    {
     "data": {
      "text/html": [
       "<div>\n",
       "<style scoped>\n",
       "    .dataframe tbody tr th:only-of-type {\n",
       "        vertical-align: middle;\n",
       "    }\n",
       "\n",
       "    .dataframe tbody tr th {\n",
       "        vertical-align: top;\n",
       "    }\n",
       "\n",
       "    .dataframe thead th {\n",
       "        text-align: right;\n",
       "    }\n",
       "</style>\n",
       "<table border=\"1\" class=\"dataframe\">\n",
       "  <thead>\n",
       "    <tr style=\"text-align: right;\">\n",
       "      <th></th>\n",
       "      <th>age</th>\n",
       "      <th>education</th>\n",
       "      <th>sex</th>\n",
       "      <th>is_smoking</th>\n",
       "      <th>cigsPerDay</th>\n",
       "      <th>BPMeds</th>\n",
       "      <th>prevalentStroke</th>\n",
       "      <th>prevalentHyp</th>\n",
       "      <th>diabetes</th>\n",
       "      <th>totChol</th>\n",
       "      <th>sysBP</th>\n",
       "      <th>diaBP</th>\n",
       "      <th>BMI</th>\n",
       "      <th>heartRate</th>\n",
       "      <th>glucose</th>\n",
       "      <th>TenYearCHD</th>\n",
       "    </tr>\n",
       "  </thead>\n",
       "  <tbody>\n",
       "  </tbody>\n",
       "</table>\n",
       "</div>"
      ],
      "text/plain": [
       "Empty DataFrame\n",
       "Columns: [age, education, sex, is_smoking, cigsPerDay, BPMeds, prevalentStroke, prevalentHyp, diabetes, totChol, sysBP, diaBP, BMI, heartRate, glucose, TenYearCHD]\n",
       "Index: []"
      ]
     },
     "execution_count": 32,
     "metadata": {},
     "output_type": "execute_result"
    }
   ],
   "source": [
    "data[data['totChol'] > 500]"
   ]
  },
  {
   "cell_type": "markdown",
   "id": "9b5c9b2b-774e-474f-b99b-7a660dab0d12",
   "metadata": {},
   "source": [
    "### You can try doing that for outliers in other columns"
   ]
  },
  {
   "cell_type": "markdown",
   "id": "2ae40503-11ca-4fff-9023-7d69f8214cf9",
   "metadata": {},
   "source": [
    "## We need to do Encoding for Categorical columns since most of the models work with only numerical data"
   ]
  },
  {
   "cell_type": "code",
   "execution_count": 33,
   "id": "7b7543cc-2c05-4a2f-8772-7be3c7a16214",
   "metadata": {},
   "outputs": [
    {
     "data": {
      "text/html": [
       "<div>\n",
       "<style scoped>\n",
       "    .dataframe tbody tr th:only-of-type {\n",
       "        vertical-align: middle;\n",
       "    }\n",
       "\n",
       "    .dataframe tbody tr th {\n",
       "        vertical-align: top;\n",
       "    }\n",
       "\n",
       "    .dataframe thead th {\n",
       "        text-align: right;\n",
       "    }\n",
       "</style>\n",
       "<table border=\"1\" class=\"dataframe\">\n",
       "  <thead>\n",
       "    <tr style=\"text-align: right;\">\n",
       "      <th></th>\n",
       "      <th>age</th>\n",
       "      <th>education</th>\n",
       "      <th>cigsPerDay</th>\n",
       "      <th>BPMeds</th>\n",
       "      <th>prevalentStroke</th>\n",
       "      <th>prevalentHyp</th>\n",
       "      <th>diabetes</th>\n",
       "      <th>totChol</th>\n",
       "      <th>sysBP</th>\n",
       "      <th>diaBP</th>\n",
       "      <th>BMI</th>\n",
       "      <th>heartRate</th>\n",
       "      <th>glucose</th>\n",
       "      <th>TenYearCHD</th>\n",
       "      <th>sex_M</th>\n",
       "      <th>is_smoking_YES</th>\n",
       "    </tr>\n",
       "  </thead>\n",
       "  <tbody>\n",
       "    <tr>\n",
       "      <th>0</th>\n",
       "      <td>64</td>\n",
       "      <td>2.0</td>\n",
       "      <td>3.0</td>\n",
       "      <td>0.0</td>\n",
       "      <td>0</td>\n",
       "      <td>0</td>\n",
       "      <td>0</td>\n",
       "      <td>221.0</td>\n",
       "      <td>148.0</td>\n",
       "      <td>85.0</td>\n",
       "      <td>25.38</td>\n",
       "      <td>90.0</td>\n",
       "      <td>80.0</td>\n",
       "      <td>1</td>\n",
       "      <td>0</td>\n",
       "      <td>1</td>\n",
       "    </tr>\n",
       "    <tr>\n",
       "      <th>1</th>\n",
       "      <td>36</td>\n",
       "      <td>4.0</td>\n",
       "      <td>0.0</td>\n",
       "      <td>0.0</td>\n",
       "      <td>0</td>\n",
       "      <td>1</td>\n",
       "      <td>0</td>\n",
       "      <td>212.0</td>\n",
       "      <td>168.0</td>\n",
       "      <td>98.0</td>\n",
       "      <td>29.77</td>\n",
       "      <td>72.0</td>\n",
       "      <td>75.0</td>\n",
       "      <td>0</td>\n",
       "      <td>1</td>\n",
       "      <td>0</td>\n",
       "    </tr>\n",
       "    <tr>\n",
       "      <th>2</th>\n",
       "      <td>46</td>\n",
       "      <td>1.0</td>\n",
       "      <td>10.0</td>\n",
       "      <td>0.0</td>\n",
       "      <td>0</td>\n",
       "      <td>0</td>\n",
       "      <td>0</td>\n",
       "      <td>250.0</td>\n",
       "      <td>116.0</td>\n",
       "      <td>71.0</td>\n",
       "      <td>20.35</td>\n",
       "      <td>88.0</td>\n",
       "      <td>94.0</td>\n",
       "      <td>0</td>\n",
       "      <td>0</td>\n",
       "      <td>1</td>\n",
       "    </tr>\n",
       "    <tr>\n",
       "      <th>3</th>\n",
       "      <td>50</td>\n",
       "      <td>1.0</td>\n",
       "      <td>20.0</td>\n",
       "      <td>0.0</td>\n",
       "      <td>0</td>\n",
       "      <td>1</td>\n",
       "      <td>0</td>\n",
       "      <td>233.0</td>\n",
       "      <td>158.0</td>\n",
       "      <td>88.0</td>\n",
       "      <td>28.26</td>\n",
       "      <td>68.0</td>\n",
       "      <td>94.0</td>\n",
       "      <td>1</td>\n",
       "      <td>1</td>\n",
       "      <td>1</td>\n",
       "    </tr>\n",
       "    <tr>\n",
       "      <th>4</th>\n",
       "      <td>64</td>\n",
       "      <td>1.0</td>\n",
       "      <td>30.0</td>\n",
       "      <td>0.0</td>\n",
       "      <td>0</td>\n",
       "      <td>0</td>\n",
       "      <td>0</td>\n",
       "      <td>241.0</td>\n",
       "      <td>136.5</td>\n",
       "      <td>85.0</td>\n",
       "      <td>26.42</td>\n",
       "      <td>70.0</td>\n",
       "      <td>77.0</td>\n",
       "      <td>0</td>\n",
       "      <td>0</td>\n",
       "      <td>1</td>\n",
       "    </tr>\n",
       "  </tbody>\n",
       "</table>\n",
       "</div>"
      ],
      "text/plain": [
       "   age  education  cigsPerDay  BPMeds  prevalentStroke  prevalentHyp  \\\n",
       "0   64        2.0         3.0     0.0                0             0   \n",
       "1   36        4.0         0.0     0.0                0             1   \n",
       "2   46        1.0        10.0     0.0                0             0   \n",
       "3   50        1.0        20.0     0.0                0             1   \n",
       "4   64        1.0        30.0     0.0                0             0   \n",
       "\n",
       "   diabetes  totChol  sysBP  diaBP    BMI  heartRate  glucose  TenYearCHD  \\\n",
       "0         0    221.0  148.0   85.0  25.38       90.0     80.0           1   \n",
       "1         0    212.0  168.0   98.0  29.77       72.0     75.0           0   \n",
       "2         0    250.0  116.0   71.0  20.35       88.0     94.0           0   \n",
       "3         0    233.0  158.0   88.0  28.26       68.0     94.0           1   \n",
       "4         0    241.0  136.5   85.0  26.42       70.0     77.0           0   \n",
       "\n",
       "   sex_M  is_smoking_YES  \n",
       "0      0               1  \n",
       "1      1               0  \n",
       "2      0               1  \n",
       "3      1               1  \n",
       "4      0               1  "
      ]
     },
     "execution_count": 33,
     "metadata": {},
     "output_type": "execute_result"
    }
   ],
   "source": [
    "# Using get_dummies method\n",
    "data = pd.get_dummies(\n",
    "    data,\n",
    "    columns= ['sex','is_smoking'],\n",
    "    drop_first=True,\n",
    ")\n",
    "data.head()"
   ]
  },
  {
   "cell_type": "markdown",
   "id": "65a927d1-4b8c-47d0-b08f-8a94240671cc",
   "metadata": {},
   "source": [
    "### Other methods: OneHotEncoder\n",
    "### it will produce a numpy array\n",
    "### need to convert it back to a dataframe to continue"
   ]
  },
  {
   "cell_type": "markdown",
   "id": "1fe73a0f-2112-4676-b4f3-261fd6ad1940",
   "metadata": {},
   "source": [
    "## Standardisation or Normalisation"
   ]
  },
  {
   "cell_type": "code",
   "execution_count": 34,
   "id": "eadfae51-805a-4558-8837-e4c705a5ac92",
   "metadata": {},
   "outputs": [],
   "source": [
    "#defining X(independent) and Y(Dependent) Variables\n",
    "X = data.drop([\"TenYearCHD\"], axis=1)\n",
    "y = data[\"TenYearCHD\"]"
   ]
  },
  {
   "cell_type": "code",
   "execution_count": 35,
   "id": "e08797cb-105d-452d-9202-b491cf54f31f",
   "metadata": {},
   "outputs": [
    {
     "data": {
      "text/html": [
       "<div>\n",
       "<style scoped>\n",
       "    .dataframe tbody tr th:only-of-type {\n",
       "        vertical-align: middle;\n",
       "    }\n",
       "\n",
       "    .dataframe tbody tr th {\n",
       "        vertical-align: top;\n",
       "    }\n",
       "\n",
       "    .dataframe thead th {\n",
       "        text-align: right;\n",
       "    }\n",
       "</style>\n",
       "<table border=\"1\" class=\"dataframe\">\n",
       "  <thead>\n",
       "    <tr style=\"text-align: right;\">\n",
       "      <th></th>\n",
       "      <th>age</th>\n",
       "      <th>education</th>\n",
       "      <th>cigsPerDay</th>\n",
       "      <th>BPMeds</th>\n",
       "      <th>prevalentStroke</th>\n",
       "      <th>prevalentHyp</th>\n",
       "      <th>diabetes</th>\n",
       "      <th>totChol</th>\n",
       "      <th>sysBP</th>\n",
       "      <th>diaBP</th>\n",
       "      <th>BMI</th>\n",
       "      <th>heartRate</th>\n",
       "      <th>glucose</th>\n",
       "      <th>sex_M</th>\n",
       "      <th>is_smoking_YES</th>\n",
       "    </tr>\n",
       "  </thead>\n",
       "  <tbody>\n",
       "    <tr>\n",
       "      <th>0</th>\n",
       "      <td>0.842105</td>\n",
       "      <td>0.333333</td>\n",
       "      <td>0.042857</td>\n",
       "      <td>0.0</td>\n",
       "      <td>0.0</td>\n",
       "      <td>0.0</td>\n",
       "      <td>0.0</td>\n",
       "      <td>0.319328</td>\n",
       "      <td>0.304965</td>\n",
       "      <td>0.391534</td>\n",
       "      <td>0.230656</td>\n",
       "      <td>0.459184</td>\n",
       "      <td>0.112994</td>\n",
       "      <td>0.0</td>\n",
       "      <td>1.0</td>\n",
       "    </tr>\n",
       "    <tr>\n",
       "      <th>1</th>\n",
       "      <td>0.105263</td>\n",
       "      <td>1.000000</td>\n",
       "      <td>0.000000</td>\n",
       "      <td>0.0</td>\n",
       "      <td>0.0</td>\n",
       "      <td>1.0</td>\n",
       "      <td>0.0</td>\n",
       "      <td>0.294118</td>\n",
       "      <td>0.399527</td>\n",
       "      <td>0.529101</td>\n",
       "      <td>0.338149</td>\n",
       "      <td>0.275510</td>\n",
       "      <td>0.098870</td>\n",
       "      <td>1.0</td>\n",
       "      <td>0.0</td>\n",
       "    </tr>\n",
       "    <tr>\n",
       "      <th>2</th>\n",
       "      <td>0.368421</td>\n",
       "      <td>0.000000</td>\n",
       "      <td>0.142857</td>\n",
       "      <td>0.0</td>\n",
       "      <td>0.0</td>\n",
       "      <td>0.0</td>\n",
       "      <td>0.0</td>\n",
       "      <td>0.400560</td>\n",
       "      <td>0.153664</td>\n",
       "      <td>0.243386</td>\n",
       "      <td>0.107493</td>\n",
       "      <td>0.438776</td>\n",
       "      <td>0.152542</td>\n",
       "      <td>0.0</td>\n",
       "      <td>1.0</td>\n",
       "    </tr>\n",
       "    <tr>\n",
       "      <th>3</th>\n",
       "      <td>0.473684</td>\n",
       "      <td>0.000000</td>\n",
       "      <td>0.285714</td>\n",
       "      <td>0.0</td>\n",
       "      <td>0.0</td>\n",
       "      <td>1.0</td>\n",
       "      <td>0.0</td>\n",
       "      <td>0.352941</td>\n",
       "      <td>0.352246</td>\n",
       "      <td>0.423280</td>\n",
       "      <td>0.301175</td>\n",
       "      <td>0.234694</td>\n",
       "      <td>0.152542</td>\n",
       "      <td>1.0</td>\n",
       "      <td>1.0</td>\n",
       "    </tr>\n",
       "    <tr>\n",
       "      <th>4</th>\n",
       "      <td>0.842105</td>\n",
       "      <td>0.000000</td>\n",
       "      <td>0.428571</td>\n",
       "      <td>0.0</td>\n",
       "      <td>0.0</td>\n",
       "      <td>0.0</td>\n",
       "      <td>0.0</td>\n",
       "      <td>0.375350</td>\n",
       "      <td>0.250591</td>\n",
       "      <td>0.391534</td>\n",
       "      <td>0.256121</td>\n",
       "      <td>0.255102</td>\n",
       "      <td>0.104520</td>\n",
       "      <td>0.0</td>\n",
       "      <td>1.0</td>\n",
       "    </tr>\n",
       "    <tr>\n",
       "      <th>...</th>\n",
       "      <td>...</td>\n",
       "      <td>...</td>\n",
       "      <td>...</td>\n",
       "      <td>...</td>\n",
       "      <td>...</td>\n",
       "      <td>...</td>\n",
       "      <td>...</td>\n",
       "      <td>...</td>\n",
       "      <td>...</td>\n",
       "      <td>...</td>\n",
       "      <td>...</td>\n",
       "      <td>...</td>\n",
       "      <td>...</td>\n",
       "      <td>...</td>\n",
       "      <td>...</td>\n",
       "    </tr>\n",
       "    <tr>\n",
       "      <th>3383</th>\n",
       "      <td>0.736842</td>\n",
       "      <td>0.000000</td>\n",
       "      <td>0.000000</td>\n",
       "      <td>0.0</td>\n",
       "      <td>0.0</td>\n",
       "      <td>0.0</td>\n",
       "      <td>0.0</td>\n",
       "      <td>0.431373</td>\n",
       "      <td>0.189125</td>\n",
       "      <td>0.328042</td>\n",
       "      <td>0.326151</td>\n",
       "      <td>0.255102</td>\n",
       "      <td>0.177966</td>\n",
       "      <td>0.0</td>\n",
       "      <td>0.0</td>\n",
       "    </tr>\n",
       "    <tr>\n",
       "      <th>3384</th>\n",
       "      <td>0.368421</td>\n",
       "      <td>0.000000</td>\n",
       "      <td>0.000000</td>\n",
       "      <td>0.0</td>\n",
       "      <td>0.0</td>\n",
       "      <td>0.0</td>\n",
       "      <td>0.0</td>\n",
       "      <td>0.257703</td>\n",
       "      <td>0.087470</td>\n",
       "      <td>0.084656</td>\n",
       "      <td>0.146915</td>\n",
       "      <td>0.357143</td>\n",
       "      <td>0.124294</td>\n",
       "      <td>0.0</td>\n",
       "      <td>0.0</td>\n",
       "    </tr>\n",
       "    <tr>\n",
       "      <th>3385</th>\n",
       "      <td>0.315789</td>\n",
       "      <td>0.666667</td>\n",
       "      <td>0.042857</td>\n",
       "      <td>0.0</td>\n",
       "      <td>0.0</td>\n",
       "      <td>1.0</td>\n",
       "      <td>0.0</td>\n",
       "      <td>0.686275</td>\n",
       "      <td>0.380615</td>\n",
       "      <td>0.751323</td>\n",
       "      <td>0.317336</td>\n",
       "      <td>0.285714</td>\n",
       "      <td>0.090395</td>\n",
       "      <td>1.0</td>\n",
       "      <td>1.0</td>\n",
       "    </tr>\n",
       "    <tr>\n",
       "      <th>3386</th>\n",
       "      <td>0.736842</td>\n",
       "      <td>0.000000</td>\n",
       "      <td>0.000000</td>\n",
       "      <td>0.0</td>\n",
       "      <td>0.0</td>\n",
       "      <td>1.0</td>\n",
       "      <td>0.0</td>\n",
       "      <td>0.235294</td>\n",
       "      <td>0.394799</td>\n",
       "      <td>0.603175</td>\n",
       "      <td>0.172625</td>\n",
       "      <td>0.357143</td>\n",
       "      <td>0.127119</td>\n",
       "      <td>1.0</td>\n",
       "      <td>0.0</td>\n",
       "    </tr>\n",
       "    <tr>\n",
       "      <th>3387</th>\n",
       "      <td>0.578947</td>\n",
       "      <td>0.666667</td>\n",
       "      <td>0.000000</td>\n",
       "      <td>0.0</td>\n",
       "      <td>0.0</td>\n",
       "      <td>0.0</td>\n",
       "      <td>0.0</td>\n",
       "      <td>0.507003</td>\n",
       "      <td>0.191489</td>\n",
       "      <td>0.306878</td>\n",
       "      <td>0.340842</td>\n",
       "      <td>0.346939</td>\n",
       "      <td>0.146893</td>\n",
       "      <td>0.0</td>\n",
       "      <td>0.0</td>\n",
       "    </tr>\n",
       "  </tbody>\n",
       "</table>\n",
       "<p>3388 rows × 15 columns</p>\n",
       "</div>"
      ],
      "text/plain": [
       "           age  education  cigsPerDay  BPMeds  prevalentStroke  prevalentHyp  \\\n",
       "0     0.842105   0.333333    0.042857     0.0              0.0           0.0   \n",
       "1     0.105263   1.000000    0.000000     0.0              0.0           1.0   \n",
       "2     0.368421   0.000000    0.142857     0.0              0.0           0.0   \n",
       "3     0.473684   0.000000    0.285714     0.0              0.0           1.0   \n",
       "4     0.842105   0.000000    0.428571     0.0              0.0           0.0   \n",
       "...        ...        ...         ...     ...              ...           ...   \n",
       "3383  0.736842   0.000000    0.000000     0.0              0.0           0.0   \n",
       "3384  0.368421   0.000000    0.000000     0.0              0.0           0.0   \n",
       "3385  0.315789   0.666667    0.042857     0.0              0.0           1.0   \n",
       "3386  0.736842   0.000000    0.000000     0.0              0.0           1.0   \n",
       "3387  0.578947   0.666667    0.000000     0.0              0.0           0.0   \n",
       "\n",
       "      diabetes   totChol     sysBP     diaBP       BMI  heartRate   glucose  \\\n",
       "0          0.0  0.319328  0.304965  0.391534  0.230656   0.459184  0.112994   \n",
       "1          0.0  0.294118  0.399527  0.529101  0.338149   0.275510  0.098870   \n",
       "2          0.0  0.400560  0.153664  0.243386  0.107493   0.438776  0.152542   \n",
       "3          0.0  0.352941  0.352246  0.423280  0.301175   0.234694  0.152542   \n",
       "4          0.0  0.375350  0.250591  0.391534  0.256121   0.255102  0.104520   \n",
       "...        ...       ...       ...       ...       ...        ...       ...   \n",
       "3383       0.0  0.431373  0.189125  0.328042  0.326151   0.255102  0.177966   \n",
       "3384       0.0  0.257703  0.087470  0.084656  0.146915   0.357143  0.124294   \n",
       "3385       0.0  0.686275  0.380615  0.751323  0.317336   0.285714  0.090395   \n",
       "3386       0.0  0.235294  0.394799  0.603175  0.172625   0.357143  0.127119   \n",
       "3387       0.0  0.507003  0.191489  0.306878  0.340842   0.346939  0.146893   \n",
       "\n",
       "      sex_M  is_smoking_YES  \n",
       "0       0.0             1.0  \n",
       "1       1.0             0.0  \n",
       "2       0.0             1.0  \n",
       "3       1.0             1.0  \n",
       "4       0.0             1.0  \n",
       "...     ...             ...  \n",
       "3383    0.0             0.0  \n",
       "3384    0.0             0.0  \n",
       "3385    1.0             1.0  \n",
       "3386    1.0             0.0  \n",
       "3387    0.0             0.0  \n",
       "\n",
       "[3388 rows x 15 columns]"
      ]
     },
     "execution_count": 35,
     "metadata": {},
     "output_type": "execute_result"
    }
   ],
   "source": [
    "scaler = MinMaxScaler()\n",
    "X_norm = scaler.fit_transform(X)\n",
    "X_norm = pd.DataFrame(X_norm, columns=X.columns)\n",
    "X_norm"
   ]
  },
  {
   "cell_type": "markdown",
   "id": "ea77ecc0-e817-4981-b77b-c61542c48a71",
   "metadata": {},
   "source": [
    "# fit_transform vs transform"
   ]
  },
  {
   "cell_type": "markdown",
   "id": "c17085c2-a4ce-4f83-a57c-9904ef7be7e4",
   "metadata": {},
   "source": [
    "## Log Transformation"
   ]
  },
  {
   "cell_type": "markdown",
   "id": "4a33768a-1e7c-45bf-858c-e173074b1d55",
   "metadata": {},
   "source": [
    "### If there are 0's in your column to be log transformed, it will create some errors/problems (log 0 problem)\n",
    "### you can add a small constant to the column such as 0.00001 to avoid this"
   ]
  },
  {
   "cell_type": "code",
   "execution_count": 36,
   "id": "bb571918-4e7e-4cd6-be35-208dcbf05be0",
   "metadata": {},
   "outputs": [],
   "source": [
    "X_norm['glucose'] = X_norm['glucose'] + 0.00001"
   ]
  },
  {
   "cell_type": "code",
   "execution_count": 37,
   "id": "3683d70e-6cc6-45e5-9daf-f217018ff3e9",
   "metadata": {},
   "outputs": [
    {
     "data": {
      "text/plain": [
       "0      -2.180329\n",
       "1      -2.313848\n",
       "2      -1.880247\n",
       "3      -1.880247\n",
       "4      -2.258283\n",
       "          ...   \n",
       "3383   -1.726106\n",
       "3384   -2.085027\n",
       "3385   -2.403450\n",
       "3386   -2.062556\n",
       "3387   -1.917985\n",
       "Name: glucose, Length: 3388, dtype: float64"
      ]
     },
     "execution_count": 37,
     "metadata": {},
     "output_type": "execute_result"
    }
   ],
   "source": [
    "X_norm['glucose'] = np.log(X_norm['glucose'])\n",
    "X_norm['glucose']"
   ]
  },
  {
   "cell_type": "markdown",
   "id": "667d8bd5-0514-4342-8fcb-85ea02051839",
   "metadata": {},
   "source": [
    "## Splitting the Data between Testing and Training"
   ]
  },
  {
   "cell_type": "code",
   "execution_count": 38,
   "id": "46db2693-d048-42d6-ab05-0d618d95a274",
   "metadata": {},
   "outputs": [
    {
     "name": "stdout",
     "output_type": "stream",
     "text": [
      "Number of rows in train data = 2710\n",
      "Number of rows in test data = 678\n"
     ]
    }
   ],
   "source": [
    "X_train, X_test, y_train, y_test = train_test_split(X_norm, y, test_size=0.2, random_state=7, stratify = y)\n",
    "print(\"Number of rows in train data =\", X_train.shape[0])\n",
    "print(\"Number of rows in test data =\", X_test.shape[0])"
   ]
  },
  {
   "cell_type": "markdown",
   "id": "8506416a-281f-440a-aee5-3a004c10205c",
   "metadata": {},
   "source": [
    "## It is important to stratify the data based on target variable. \n",
    "## X_train, X_test, y_train, y_test = train_test_split(X, y, test_size=0.3, random_state=7, stratify = y)\n",
    "## In this command the parameter   'stratify = y'   will stratify the dataset based on the y variable. This is particularly important if the target variable is imbalanced\n",
    "\n",
    "## The random_state = 7 is a seed so that when you run the program many times (number of experiments) division of data into train and test does not vary ie in each experiment same rows go into training data/testing data. This is important for consistency in different experiments and comparing the results"
   ]
  },
  {
   "cell_type": "code",
   "execution_count": 39,
   "id": "19a540dd-e9a6-466e-a25c-65e603319594",
   "metadata": {},
   "outputs": [
    {
     "data": {
      "text/plain": [
       "0    2878\n",
       "1     510\n",
       "Name: TenYearCHD, dtype: int64"
      ]
     },
     "execution_count": 39,
     "metadata": {},
     "output_type": "execute_result"
    }
   ],
   "source": [
    "y.value_counts()"
   ]
  },
  {
   "cell_type": "code",
   "execution_count": 40,
   "id": "a97cfc7a-ccbd-4250-b02f-1a2b05fa6696",
   "metadata": {},
   "outputs": [
    {
     "name": "stdout",
     "output_type": "stream",
     "text": [
      "Percentage of people with 10-year risk of coronary heart disease in this dataset: 0.15082644628099173\n"
     ]
    }
   ],
   "source": [
    "print(f'Percentage of people with 10-year risk of coronary heart disease in this dataset: {511/data.shape[0]}')"
   ]
  },
  {
   "cell_type": "markdown",
   "id": "6827d11d-65ea-49f2-ad67-594ffdffabf5",
   "metadata": {},
   "source": [
    "This dataset is somewhat imabalanced"
   ]
  },
  {
   "cell_type": "code",
   "execution_count": 41,
   "id": "96df184b-f6d6-4032-a433-14f8cd26f165",
   "metadata": {},
   "outputs": [
    {
     "data": {
      "text/plain": [
       "0    2302\n",
       "1     408\n",
       "Name: TenYearCHD, dtype: int64"
      ]
     },
     "execution_count": 41,
     "metadata": {},
     "output_type": "execute_result"
    }
   ],
   "source": [
    "y_train.value_counts()"
   ]
  },
  {
   "cell_type": "code",
   "execution_count": 42,
   "id": "d3832368-bf0a-4ea5-8c80-2db6023c0668",
   "metadata": {},
   "outputs": [
    {
     "name": "stdout",
     "output_type": "stream",
     "text": [
      "Percentage of people with 10-year risk of coronary heart disease in train set: 0.13210332103321032\n"
     ]
    }
   ],
   "source": [
    "print(f'Percentage of people with 10-year risk of coronary heart disease in train set: {358/X_train.shape[0]}')"
   ]
  },
  {
   "cell_type": "code",
   "execution_count": 43,
   "id": "23306cc2-9722-4d31-8202-d3914dc729b0",
   "metadata": {
    "tags": []
   },
   "outputs": [
    {
     "data": {
      "text/plain": [
       "0    576\n",
       "1    102\n",
       "Name: TenYearCHD, dtype: int64"
      ]
     },
     "execution_count": 43,
     "metadata": {},
     "output_type": "execute_result"
    }
   ],
   "source": [
    "y_test.value_counts()"
   ]
  },
  {
   "cell_type": "code",
   "execution_count": 44,
   "id": "b2af7590-ff43-40f2-b41a-d161b860459f",
   "metadata": {},
   "outputs": [
    {
     "name": "stdout",
     "output_type": "stream",
     "text": [
      "Percentage of people with 10-year risk of coronary heart disease in test set: 0.22566371681415928\n"
     ]
    }
   ],
   "source": [
    "print(f'Percentage of people with 10-year risk of coronary heart disease in test set: {153/X_test.shape[0]}')"
   ]
  },
  {
   "cell_type": "markdown",
   "id": "f2993652-cc6f-45e1-a5ad-0c14967c6f98",
   "metadata": {},
   "source": [
    "# BUILDING THE MODELS"
   ]
  },
  {
   "cell_type": "markdown",
   "id": "e0c5d3b4-8ca2-407f-99b5-3e03634715bd",
   "metadata": {},
   "source": [
    "## 1. Logistic Regression"
   ]
  },
  {
   "cell_type": "code",
   "execution_count": 45,
   "id": "7e6bf50d-d3e3-4c98-ac99-119feabe2923",
   "metadata": {},
   "outputs": [],
   "source": [
    "logistic = LogisticRegression(max_iter = 5000)"
   ]
  },
  {
   "cell_type": "code",
   "execution_count": 46,
   "id": "835411a8-1516-4cb7-8ab4-22dfaef5570c",
   "metadata": {},
   "outputs": [
    {
     "data": {
      "text/plain": [
       "LogisticRegression(max_iter=5000)"
      ]
     },
     "execution_count": 46,
     "metadata": {},
     "output_type": "execute_result"
    }
   ],
   "source": [
    "logistic.fit(X_train, y_train)"
   ]
  },
  {
   "cell_type": "code",
   "execution_count": 47,
   "id": "b62566a3-4694-472b-af17-ed2e6ab7cf48",
   "metadata": {},
   "outputs": [
    {
     "data": {
      "text/plain": [
       "0.8575645756457565"
      ]
     },
     "execution_count": 47,
     "metadata": {},
     "output_type": "execute_result"
    }
   ],
   "source": [
    "logistic.score(X_train,y_train)   #gives training accuracy"
   ]
  },
  {
   "cell_type": "code",
   "execution_count": 48,
   "id": "e9a3f305-5449-47a8-87c4-763426ef1ed0",
   "metadata": {},
   "outputs": [],
   "source": [
    "predicted_l = logistic.predict(X_train)"
   ]
  },
  {
   "cell_type": "code",
   "execution_count": 49,
   "id": "a8f140c3-7782-4513-bb20-c6339a55744e",
   "metadata": {},
   "outputs": [
    {
     "data": {
      "text/plain": [
       "<sklearn.metrics._plot.confusion_matrix.ConfusionMatrixDisplay at 0x180d55b7220>"
      ]
     },
     "execution_count": 49,
     "metadata": {},
     "output_type": "execute_result"
    },
    {
     "data": {
      "image/png": "[encoded data removed]",
      "text/plain": [
       "<Figure size 432x288 with 2 Axes>"
      ]
     },
     "metadata": {
      "needs_background": "light"
     },
     "output_type": "display_data"
    }
   ],
   "source": [
    "ConfusionMatrixDisplay(confusion_matrix(y_train, predicted_l)).plot()"
   ]
  },
  {
   "cell_type": "markdown",
   "id": "e2649873-4f6a-411c-a189-1f190210a52e",
   "metadata": {},
   "source": [
    "### Accuracy is not always a good indicator --- WHY?"
   ]
  },
  {
   "cell_type": "code",
   "execution_count": 50,
   "id": "8a8e0e64-d7b4-4556-9db8-28ee9c15632e",
   "metadata": {},
   "outputs": [
    {
     "name": "stdout",
     "output_type": "stream",
     "text": [
      "              precision    recall  f1-score   support\n",
      "\n",
      "           0       0.86      1.00      0.92      2302\n",
      "           1       0.92      0.06      0.11       408\n",
      "\n",
      "    accuracy                           0.86      2710\n",
      "   macro avg       0.89      0.53      0.52      2710\n",
      "weighted avg       0.87      0.86      0.80      2710\n",
      "\n"
     ]
    }
   ],
   "source": [
    "print(classification_report(y_train, predicted_l))"
   ]
  },
  {
   "cell_type": "code",
   "execution_count": 51,
   "id": "4db62cd9-7dc2-4950-984a-52405b48c255",
   "metadata": {},
   "outputs": [
    {
     "data": {
      "text/plain": [
       "array([0.09411765, 0.07058824, 0.15555556, 0.07058824, 0.11235955])"
      ]
     },
     "execution_count": 51,
     "metadata": {},
     "output_type": "execute_result"
    }
   ],
   "source": [
    "cv = StratifiedKFold(n_splits=5, shuffle=True, random_state=7)\n",
    "cross_val_score(logistic, X_train, y_train, cv=cv, scoring='f1',)"
   ]
  },
  {
   "cell_type": "code",
   "execution_count": 52,
   "id": "d92e9f7b-a224-4dd4-a4bc-8dac8bd018f2",
   "metadata": {
    "tags": []
   },
   "outputs": [
    {
     "data": {
      "text/plain": [
       "array([0.76173643, 0.68600198, 0.72515907, 0.65241251, 0.71375928])"
      ]
     },
     "execution_count": 52,
     "metadata": {},
     "output_type": "execute_result"
    }
   ],
   "source": [
    "cv = StratifiedKFold(n_splits=5, shuffle=True, random_state=7)\n",
    "cross_val_score(logistic, X_train, y_train, cv=cv, scoring='roc_auc',)"
   ]
  },
  {
   "cell_type": "markdown",
   "id": "751fd3c7-4423-41d2-8ee9-597aa9c5f2d9",
   "metadata": {},
   "source": [
    "# If you want to visualise the ROC Curve"
   ]
  },
  {
   "cell_type": "code",
   "execution_count": 53,
   "id": "3d7f1c2c-1202-48b1-96d2-0f7938761ceb",
   "metadata": {},
   "outputs": [
    {
     "data": {
      "text/plain": [
       "<matplotlib.legend.Legend at 0x180d5614e80>"
      ]
     },
     "execution_count": 53,
     "metadata": {},
     "output_type": "execute_result"
    },
    {
     "data": {
      "image/png": "[encoded data removed]",
      "text/plain": [
       "<Figure size 1152x360 with 1 Axes>"
      ]
     },
     "metadata": {
      "needs_background": "light"
     },
     "output_type": "display_data"
    }
   ],
   "source": [
    "# ROC curve\n",
    "logistic_roc_auc_train = roc_auc_score(y_train, logistic.predict_proba(X_train)[:,1])\n",
    "fpr, tpr, thresholds = roc_curve(y_train, logistic.predict_proba(X_train)[:,1])\n",
    "\n",
    "plt.figure(figsize=(16, 5))\n",
    "plt.subplot(1, 2, 1)\n",
    "plt.plot(fpr, tpr, label=\"Logistic Regression (area = %0.2f)\" % logistic_roc_auc_train)\n",
    "plt.plot([0, 1], [0, 1], \"r--\")\n",
    "plt.xlabel(\"False Positive Rate\")\n",
    "plt.ylabel(\"True Positive Rate\")\n",
    "plt.title(\"Receiver operating characteristic (Training)\")\n",
    "plt.legend(loc=\"lower right\")\n",
    "#plt.show()"
   ]
  },
  {
   "cell_type": "markdown",
   "id": "3088fc04-a37f-4a8b-96d5-906494bb9d69",
   "metadata": {},
   "source": [
    "## To change the thresholds"
   ]
  },
  {
   "cell_type": "code",
   "execution_count": 54,
   "id": "f9ee6bba-e7b5-4a0e-8b6c-cc53387bbf25",
   "metadata": {},
   "outputs": [
    {
     "name": "stdout",
     "output_type": "stream",
     "text": [
      "ROC AUC: 0.724619256912148\n",
      "Optimal Threshold based on ROC AUC: 0.18184736254943265\n"
     ]
    }
   ],
   "source": [
    "# Predict probabilities on the train and test sets\n",
    "pred_prob = logistic.predict_proba(X_train)[:, 1]\n",
    "pred_prob_test = logistic.predict_proba(X_test)[:, 1]  # since 1 is the positive class\n",
    "\n",
    "# Calculate ROC AUC\n",
    "roc_auc = roc_auc_score(y_train, pred_prob)\n",
    "\n",
    "# Find the optimal threshold for ROC AUC\n",
    "fpr, tpr, thresholds = roc_curve(y_train, pred_prob)\n",
    "optimal_idx = np.argmax(tpr - fpr)\n",
    "optimal_threshold = thresholds[optimal_idx]\n",
    "\n",
    "# Use the optimal threshold for predictions\n",
    "y_pred_train_l = [1 if prob >= optimal_threshold else 0 for prob in pred_prob]\n",
    "y_pred_test_l = [1 if prob >= optimal_threshold else 0 for prob in pred_prob_test]\n",
    "\n",
    "# Print the ROC AUC and the optimal threshold\n",
    "print(\"ROC AUC:\", roc_auc)\n",
    "print(\"Optimal Threshold based on ROC AUC:\", optimal_threshold)"
   ]
  },
  {
   "cell_type": "code",
   "execution_count": 55,
   "id": "31b3932f-053c-42b1-aa8a-9fa8d5d791fd",
   "metadata": {},
   "outputs": [
    {
     "name": "stdout",
     "output_type": "stream",
     "text": [
      "              precision    recall  f1-score   support\n",
      "\n",
      "           0       0.91      0.75      0.82      2302\n",
      "           1       0.30      0.61      0.40       408\n",
      "\n",
      "    accuracy                           0.73      2710\n",
      "   macro avg       0.61      0.68      0.61      2710\n",
      "weighted avg       0.82      0.73      0.76      2710\n",
      "\n"
     ]
    }
   ],
   "source": [
    "print(classification_report(y_train, y_pred_train_l))"
   ]
  },
  {
   "cell_type": "code",
   "execution_count": 56,
   "id": "6d10c32c-86ed-48dc-a514-63e1af171a2a",
   "metadata": {},
   "outputs": [
    {
     "name": "stdout",
     "output_type": "stream",
     "text": [
      "              precision    recall  f1-score   support\n",
      "\n",
      "           0       0.90      0.78      0.84       576\n",
      "           1       0.30      0.54      0.38       102\n",
      "\n",
      "    accuracy                           0.74       678\n",
      "   macro avg       0.60      0.66      0.61       678\n",
      "weighted avg       0.81      0.74      0.77       678\n",
      "\n"
     ]
    }
   ],
   "source": [
    "print(classification_report(y_test, y_pred_test_l))"
   ]
  },
  {
   "cell_type": "markdown",
   "id": "a626d1f0-031a-4d62-972b-e78bcdd1f64f",
   "metadata": {},
   "source": [
    "## Another way of building a Logistic Regression Model using statsmodels library which gives a nicer output"
   ]
  },
  {
   "cell_type": "code",
   "execution_count": 57,
   "id": "10cba580-886d-4dc4-86a8-d2d633f0f7ee",
   "metadata": {},
   "outputs": [],
   "source": [
    "# Need to add a constant term to the indepdent variables \n",
    "# This is specific to the statsmodel library to calculate the intercept when using Linear and Logistic Regression Models\n",
    "\n",
    "#X = sm.add_constant(X)"
   ]
  },
  {
   "cell_type": "code",
   "execution_count": 58,
   "id": "1cc1c440-76e0-48e6-ba72-68d7dcb2a7aa",
   "metadata": {},
   "outputs": [],
   "source": [
    "#X.head()"
   ]
  },
  {
   "cell_type": "code",
   "execution_count": 59,
   "id": "baa25880-7b7d-4c4c-8947-32c4e2aba21b",
   "metadata": {},
   "outputs": [],
   "source": [
    "# Redoing this since X has changed\n",
    "#X_train, X_test, y_train, y_test = train_test_split(X, y, test_size=0.3, random_state=7, stratify = y)\n",
    "#print(\"Number of rows in train data =\", X_train.shape[0])\n",
    "#print(\"Number of rows in test data =\", X_test.shape[0])"
   ]
  },
  {
   "cell_type": "code",
   "execution_count": 60,
   "id": "1ab4cde9-60d8-4638-b476-b91e1ffadbf9",
   "metadata": {},
   "outputs": [],
   "source": [
    "#logreg = sm.Logit(y_train, X_train).fit()\n",
    "#print(logreg.summary())"
   ]
  },
  {
   "cell_type": "code",
   "execution_count": 61,
   "id": "9583eade-0cdb-4450-93a8-5f535cefdf70",
   "metadata": {},
   "outputs": [],
   "source": [
    "#predicted = logreg.predict(X_test)"
   ]
  },
  {
   "cell_type": "markdown",
   "id": "6bd9adc9-ec4f-4075-981e-df0625b9ca8d",
   "metadata": {},
   "source": [
    "## 2. K-Nearest Neighbour (KNN) Model"
   ]
  },
  {
   "cell_type": "code",
   "execution_count": 62,
   "id": "5ab482b9-ed19-43ac-8763-71c186ca3521",
   "metadata": {
    "tags": []
   },
   "outputs": [],
   "source": [
    "knn = KNeighborsClassifier(n_neighbors = 4)"
   ]
  },
  {
   "cell_type": "code",
   "execution_count": 63,
   "id": "d60292fe-3396-4041-96cf-880ac4f43218",
   "metadata": {},
   "outputs": [
    {
     "data": {
      "text/plain": [
       "KNeighborsClassifier(n_neighbors=4)"
      ]
     },
     "execution_count": 63,
     "metadata": {},
     "output_type": "execute_result"
    }
   ],
   "source": [
    "knn.fit(X_train, y_train)"
   ]
  },
  {
   "cell_type": "code",
   "execution_count": 64,
   "id": "7c7dc8d2-6ede-4549-8ba1-6263a7c5b0f7",
   "metadata": {},
   "outputs": [
    {
     "data": {
      "text/plain": [
       "0.8590405904059041"
      ]
     },
     "execution_count": 64,
     "metadata": {},
     "output_type": "execute_result"
    }
   ],
   "source": [
    "knn.score(X_train,y_train) "
   ]
  },
  {
   "cell_type": "code",
   "execution_count": 65,
   "id": "84724a4b-8958-4fbe-8e8b-24d5eeb3fd06",
   "metadata": {},
   "outputs": [],
   "source": [
    "predicted_knn = knn.predict(X_train)"
   ]
  },
  {
   "cell_type": "code",
   "execution_count": 66,
   "id": "e1ddbaef-be38-40bc-88be-8de9c7b7d6e6",
   "metadata": {},
   "outputs": [
    {
     "data": {
      "text/plain": [
       "<sklearn.metrics._plot.confusion_matrix.ConfusionMatrixDisplay at 0x180d5105310>"
      ]
     },
     "execution_count": 66,
     "metadata": {},
     "output_type": "execute_result"
    },
    {
     "data": {
      "image/png": "[encoded data removed]",
      "text/plain": [
       "<Figure size 432x288 with 2 Axes>"
      ]
     },
     "metadata": {
      "needs_background": "light"
     },
     "output_type": "display_data"
    }
   ],
   "source": [
    "ConfusionMatrixDisplay(confusion_matrix(y_train, predicted_knn)).plot()"
   ]
  },
  {
   "cell_type": "code",
   "execution_count": 67,
   "id": "93e6f4cc-d797-4b67-94fa-c86102ed2997",
   "metadata": {},
   "outputs": [
    {
     "name": "stdout",
     "output_type": "stream",
     "text": [
      "              precision    recall  f1-score   support\n",
      "\n",
      "           0       0.86      0.99      0.92      2302\n",
      "           1       0.76      0.09      0.17       408\n",
      "\n",
      "    accuracy                           0.86      2710\n",
      "   macro avg       0.81      0.54      0.54      2710\n",
      "weighted avg       0.85      0.86      0.81      2710\n",
      "\n"
     ]
    }
   ],
   "source": [
    "print(classification_report(y_train, predicted_knn))"
   ]
  },
  {
   "cell_type": "code",
   "execution_count": 68,
   "id": "1f6d2f29-4276-458e-a73d-92dda4cf0d53",
   "metadata": {},
   "outputs": [],
   "source": [
    "# To ignore the warnings generated in KNN related processings \n",
    "warnings.filterwarnings(\"ignore\")"
   ]
  },
  {
   "cell_type": "code",
   "execution_count": 69,
   "id": "976bb7d3-fb6d-4d4d-a2b5-aeaab07249aa",
   "metadata": {},
   "outputs": [
    {
     "data": {
      "text/plain": [
       "array([0.04301075, 0.06593407, 0.02083333, 0.02197802, 0.06451613])"
      ]
     },
     "execution_count": 69,
     "metadata": {},
     "output_type": "execute_result"
    }
   ],
   "source": [
    "cv = StratifiedKFold(n_splits=5, shuffle=True, random_state=7)\n",
    "cross_val_score(knn, X_train, y_train, cv=cv, scoring='f1',)"
   ]
  },
  {
   "cell_type": "markdown",
   "id": "78c74c4e-21b0-4cec-9794-4eda6bce04d2",
   "metadata": {},
   "source": [
    "## Model Tuning\n",
    "### Using Grid Search Technique"
   ]
  },
  {
   "cell_type": "code",
   "execution_count": 70,
   "id": "9c187666-c843-490d-a8b1-14f4c22d3b3b",
   "metadata": {},
   "outputs": [
    {
     "data": {
      "text/plain": [
       "{'n_neighbors': 3}"
      ]
     },
     "execution_count": 70,
     "metadata": {},
     "output_type": "execute_result"
    }
   ],
   "source": [
    "parameters = {\"n_neighbors\": np.arange(2, 10),}\n",
    "\n",
    "# Type of scoring used to compare parameter combinations\n",
    "scorer = metrics.make_scorer(metrics.f1_score)\n",
    "\n",
    "#To use stratified K-fold cross validation\n",
    "cv = StratifiedKFold(n_splits=10, shuffle=True, random_state=7)\n",
    "\n",
    "knn_grid = GridSearchCV(KNeighborsClassifier(), parameters, scoring=scorer, cv=cv, n_jobs= -1).fit(X_train, y_train)\n",
    "\n",
    "params = knn_grid.best_params_\n",
    "params"
   ]
  },
  {
   "cell_type": "code",
   "execution_count": 71,
   "id": "c5e8eaa6-3695-4494-af27-7b69900850a8",
   "metadata": {},
   "outputs": [
    {
     "data": {
      "text/plain": [
       "array([0.08421053, 0.12727273, 0.1322314 , 0.12389381, 0.11864407])"
      ]
     },
     "execution_count": 71,
     "metadata": {},
     "output_type": "execute_result"
    }
   ],
   "source": [
    "cv = StratifiedKFold(n_splits=5, shuffle=True, random_state=7)\n",
    "cross_val_score(knn_grid, X_train, y_train, cv=cv, scoring='f1',)"
   ]
  },
  {
   "cell_type": "code",
   "execution_count": 72,
   "id": "eb4ea960-a7b9-42c3-ba06-5069e6bc23cf",
   "metadata": {},
   "outputs": [],
   "source": [
    "predicted_train_knn = knn_grid.predict(X_train)"
   ]
  },
  {
   "cell_type": "code",
   "execution_count": 73,
   "id": "4455662f-5464-4827-83e1-1da36c55b3c6",
   "metadata": {},
   "outputs": [
    {
     "name": "stdout",
     "output_type": "stream",
     "text": [
      "              precision    recall  f1-score   support\n",
      "\n",
      "           0       0.89      0.97      0.93      2302\n",
      "           1       0.67      0.32      0.44       408\n",
      "\n",
      "    accuracy                           0.87      2710\n",
      "   macro avg       0.78      0.65      0.68      2710\n",
      "weighted avg       0.86      0.87      0.86      2710\n",
      "\n"
     ]
    }
   ],
   "source": [
    "print(classification_report(y_train, predicted_train_knn))"
   ]
  },
  {
   "cell_type": "code",
   "execution_count": 74,
   "id": "eda85f82-f31e-4ec6-b6a1-ec59b85491f0",
   "metadata": {},
   "outputs": [],
   "source": [
    "predicted_test_knn = knn_grid.predict(X_test)"
   ]
  },
  {
   "cell_type": "code",
   "execution_count": 75,
   "id": "d9dc0153-0567-4ea8-8fd8-11178df4e3e0",
   "metadata": {},
   "outputs": [
    {
     "name": "stdout",
     "output_type": "stream",
     "text": [
      "              precision    recall  f1-score   support\n",
      "\n",
      "           0       0.86      0.93      0.89       576\n",
      "           1       0.22      0.11      0.15       102\n",
      "\n",
      "    accuracy                           0.81       678\n",
      "   macro avg       0.54      0.52      0.52       678\n",
      "weighted avg       0.76      0.81      0.78       678\n",
      "\n"
     ]
    }
   ],
   "source": [
    "print(classification_report(y_test, predicted_test_knn))"
   ]
  },
  {
   "cell_type": "markdown",
   "id": "1b2a154c-c2bd-486e-8876-670222f03127",
   "metadata": {},
   "source": [
    "## 3. Decision Tree Classifier"
   ]
  },
  {
   "cell_type": "code",
   "execution_count": 76,
   "id": "652a184f-ea09-4d6a-b172-1a8151bcaf4f",
   "metadata": {},
   "outputs": [],
   "source": [
    "tree = DecisionTreeClassifier(random_state=7)"
   ]
  },
  {
   "cell_type": "code",
   "execution_count": 77,
   "id": "fa044bc6-c36b-42a3-8976-faa22c836923",
   "metadata": {},
   "outputs": [
    {
     "data": {
      "text/plain": [
       "DecisionTreeClassifier(random_state=7)"
      ]
     },
     "execution_count": 77,
     "metadata": {},
     "output_type": "execute_result"
    }
   ],
   "source": [
    "tree.fit(X_train, y_train)"
   ]
  },
  {
   "cell_type": "code",
   "execution_count": 78,
   "id": "9a1d46a0-3b1c-4dfd-aaf6-9b1c0a98a9d5",
   "metadata": {},
   "outputs": [
    {
     "data": {
      "text/plain": [
       "1.0"
      ]
     },
     "execution_count": 78,
     "metadata": {},
     "output_type": "execute_result"
    }
   ],
   "source": [
    "tree.score(X_train,y_train) "
   ]
  },
  {
   "cell_type": "code",
   "execution_count": 79,
   "id": "839c7da4-998e-4332-8eeb-57e227a88575",
   "metadata": {},
   "outputs": [
    {
     "data": {
      "text/plain": [
       "27"
      ]
     },
     "execution_count": 79,
     "metadata": {},
     "output_type": "execute_result"
    }
   ],
   "source": [
    "tree.get_depth()"
   ]
  },
  {
   "cell_type": "code",
   "execution_count": 80,
   "id": "4f1fc8cc-0115-49cd-b9cd-ff4e35d15a9f",
   "metadata": {},
   "outputs": [
    {
     "data": {
      "image/png": "[encoded data removed]",
      "text/plain": [
       "<Figure size 2160x2160 with 1 Axes>"
      ]
     },
     "metadata": {
      "needs_background": "light"
     },
     "output_type": "display_data"
    }
   ],
   "source": [
    "plt.figure(figsize=(30, 30))\n",
    "plot_tree(tree)\n",
    "plt.show()"
   ]
  },
  {
   "cell_type": "code",
   "execution_count": 81,
   "id": "0618d459-7d68-49fd-bd32-d40e588489ce",
   "metadata": {},
   "outputs": [],
   "source": [
    "predicted = tree.predict(X_train)"
   ]
  },
  {
   "cell_type": "code",
   "execution_count": 82,
   "id": "7553f8cd-9c95-4aec-b812-dcccd528e32f",
   "metadata": {},
   "outputs": [
    {
     "name": "stdout",
     "output_type": "stream",
     "text": [
      "              precision    recall  f1-score   support\n",
      "\n",
      "           0       1.00      1.00      1.00      2302\n",
      "           1       1.00      1.00      1.00       408\n",
      "\n",
      "    accuracy                           1.00      2710\n",
      "   macro avg       1.00      1.00      1.00      2710\n",
      "weighted avg       1.00      1.00      1.00      2710\n",
      "\n"
     ]
    }
   ],
   "source": [
    "print(classification_report(y_train, predicted))"
   ]
  },
  {
   "cell_type": "code",
   "execution_count": 83,
   "id": "47386211-4059-45e3-979a-80b3e7daaf21",
   "metadata": {},
   "outputs": [
    {
     "data": {
      "text/plain": [
       "array([0.25698324, 0.21118012, 0.30456853, 0.2755102 , 0.29508197])"
      ]
     },
     "execution_count": 83,
     "metadata": {},
     "output_type": "execute_result"
    }
   ],
   "source": [
    "cv = StratifiedKFold(n_splits=5, shuffle=True, random_state=7)\n",
    "cross_val_score(tree, X_train, y_train, cv=cv, scoring='f1',)"
   ]
  },
  {
   "cell_type": "markdown",
   "id": "ee8a6156-c636-46ec-ba96-cc5ef5e96a07",
   "metadata": {},
   "source": [
    "### Model Tuning"
   ]
  },
  {
   "cell_type": "code",
   "execution_count": 84,
   "id": "f2d0e95b-b262-419b-931b-36bf6b721f40",
   "metadata": {},
   "outputs": [
    {
     "data": {
      "text/plain": [
       "{'max_depth': 20}"
      ]
     },
     "execution_count": 84,
     "metadata": {},
     "output_type": "execute_result"
    }
   ],
   "source": [
    "parameters = {\"max_depth\": np.arange(2, 25),}\n",
    "\n",
    "# Type of scoring used to compare parameter combinations\n",
    "scorer = metrics.make_scorer(metrics.f1_score)\n",
    "\n",
    "#To use stratified K-fold cross validation\n",
    "cv = StratifiedKFold(n_splits=5, shuffle=True, random_state=7)\n",
    "\n",
    "tree_grid = GridSearchCV(DecisionTreeClassifier(), parameters, scoring=scorer, cv=5, n_jobs= -1).fit(X_train, y_train)\n",
    "\n",
    "params = tree_grid.best_params_\n",
    "params"
   ]
  },
  {
   "cell_type": "code",
   "execution_count": 85,
   "id": "6d2fb99a-31eb-48fe-95f1-ee496184f18b",
   "metadata": {},
   "outputs": [
    {
     "data": {
      "text/plain": [
       "array([0.26751592, 0.22891566, 0.29850746, 0.24742268, 0.30167598])"
      ]
     },
     "execution_count": 85,
     "metadata": {},
     "output_type": "execute_result"
    }
   ],
   "source": [
    "cv = StratifiedKFold(n_splits=5, shuffle=True, random_state=7)\n",
    "cross_val_score(tree_grid, X_train, y_train, cv=cv, scoring='f1',)"
   ]
  },
  {
   "cell_type": "code",
   "execution_count": 86,
   "id": "bc2bb557-cf54-4bb6-9798-6f699d648495",
   "metadata": {},
   "outputs": [],
   "source": [
    "predicted_train_tree = tree_grid.predict(X_train)"
   ]
  },
  {
   "cell_type": "code",
   "execution_count": 87,
   "id": "1b0c9f97-7765-4b90-970b-86054cf78651",
   "metadata": {},
   "outputs": [
    {
     "name": "stdout",
     "output_type": "stream",
     "text": [
      "              precision    recall  f1-score   support\n",
      "\n",
      "           0       0.99      1.00      1.00      2302\n",
      "           1       1.00      0.96      0.98       408\n",
      "\n",
      "    accuracy                           0.99      2710\n",
      "   macro avg       1.00      0.98      0.99      2710\n",
      "weighted avg       0.99      0.99      0.99      2710\n",
      "\n"
     ]
    }
   ],
   "source": [
    "print(classification_report(y_train, predicted_train_tree))"
   ]
  },
  {
   "cell_type": "code",
   "execution_count": 88,
   "id": "e6fa9cc6-e86a-4698-98c2-2265b9fabf55",
   "metadata": {},
   "outputs": [],
   "source": [
    "predicted_test_tree = tree_grid.predict(X_test)"
   ]
  },
  {
   "cell_type": "code",
   "execution_count": 89,
   "id": "192d91da-3edc-4e74-bf11-20c905e141f8",
   "metadata": {},
   "outputs": [
    {
     "name": "stdout",
     "output_type": "stream",
     "text": [
      "              precision    recall  f1-score   support\n",
      "\n",
      "           0       0.87      0.85      0.86       576\n",
      "           1       0.23      0.26      0.25       102\n",
      "\n",
      "    accuracy                           0.76       678\n",
      "   macro avg       0.55      0.56      0.55       678\n",
      "weighted avg       0.77      0.76      0.76       678\n",
      "\n"
     ]
    }
   ],
   "source": [
    "print(classification_report(y_test, predicted_test_tree))"
   ]
  },
  {
   "cell_type": "markdown",
   "id": "cc88286d-4e48-4c2e-85f2-5b4420fac32c",
   "metadata": {},
   "source": [
    "## 4. Random Forest Classifier  (Ensemble Method)"
   ]
  },
  {
   "cell_type": "code",
   "execution_count": 90,
   "id": "5dc5f453-6f18-4357-a4ea-a34b81f278c4",
   "metadata": {},
   "outputs": [],
   "source": [
    "Forest = RandomForestClassifier(random_state=7)"
   ]
  },
  {
   "cell_type": "code",
   "execution_count": 91,
   "id": "ae9dc020-94c3-40c0-86a2-4133e4a64432",
   "metadata": {},
   "outputs": [
    {
     "data": {
      "text/plain": [
       "RandomForestClassifier(random_state=7)"
      ]
     },
     "execution_count": 91,
     "metadata": {},
     "output_type": "execute_result"
    }
   ],
   "source": [
    "Forest.fit(X_train, y_train)"
   ]
  },
  {
   "cell_type": "code",
   "execution_count": 92,
   "id": "9cc49d7a-c514-4b17-bcfd-09863be2152c",
   "metadata": {},
   "outputs": [
    {
     "data": {
      "text/plain": [
       "1.0"
      ]
     },
     "execution_count": 92,
     "metadata": {},
     "output_type": "execute_result"
    }
   ],
   "source": [
    "Forest.score(X_train,y_train) "
   ]
  },
  {
   "cell_type": "code",
   "execution_count": 93,
   "id": "5ffe7923-8d1e-4040-a386-278a40e3de54",
   "metadata": {},
   "outputs": [],
   "source": [
    "predicted = Forest.predict(X_train)"
   ]
  },
  {
   "cell_type": "code",
   "execution_count": 94,
   "id": "d9073dc1-10ce-43e3-bc0a-8971b8eb98ea",
   "metadata": {},
   "outputs": [
    {
     "data": {
      "text/plain": [
       "<sklearn.metrics._plot.confusion_matrix.ConfusionMatrixDisplay at 0x180d5534490>"
      ]
     },
     "execution_count": 94,
     "metadata": {},
     "output_type": "execute_result"
    },
    {
     "data": {
      "image/png": "[encoded data removed]",
      "text/plain": [
       "<Figure size 432x288 with 2 Axes>"
      ]
     },
     "metadata": {
      "needs_background": "light"
     },
     "output_type": "display_data"
    }
   ],
   "source": [
    "ConfusionMatrixDisplay(confusion_matrix(y_train, predicted)).plot()"
   ]
  },
  {
   "cell_type": "code",
   "execution_count": 95,
   "id": "e16c5245-b389-4c5a-a331-4c9fe31ee5c7",
   "metadata": {},
   "outputs": [
    {
     "name": "stdout",
     "output_type": "stream",
     "text": [
      "              precision    recall  f1-score   support\n",
      "\n",
      "           0       1.00      1.00      1.00      2302\n",
      "           1       1.00      1.00      1.00       408\n",
      "\n",
      "    accuracy                           1.00      2710\n",
      "   macro avg       1.00      1.00      1.00      2710\n",
      "weighted avg       1.00      1.00      1.00      2710\n",
      "\n"
     ]
    }
   ],
   "source": [
    "print(classification_report(y_train, predicted))"
   ]
  },
  {
   "cell_type": "code",
   "execution_count": 96,
   "id": "3eb47a61-fbf9-4673-b6a3-733066daf480",
   "metadata": {},
   "outputs": [
    {
     "data": {
      "text/plain": [
       "array([0.28395062, 0.20987654, 0.36585366, 0.32926829, 0.32926829])"
      ]
     },
     "execution_count": 96,
     "metadata": {},
     "output_type": "execute_result"
    }
   ],
   "source": [
    "cv = StratifiedKFold(n_splits=5, shuffle=True, random_state=7)\n",
    "cross_val_score(tree, X_train, y_train, cv=cv, scoring='recall',)"
   ]
  },
  {
   "cell_type": "code",
   "execution_count": 97,
   "id": "e8b76dd6-ed68-449b-abd5-c5ad89c78870",
   "metadata": {},
   "outputs": [
    {
     "data": {
      "text/plain": [
       "{'max_depth': 20}"
      ]
     },
     "execution_count": 97,
     "metadata": {},
     "output_type": "execute_result"
    }
   ],
   "source": [
    "parameters = {\"max_depth\": np.arange(2, 25),}\n",
    "\n",
    "# Type of scoring used to compare parameter combinations\n",
    "scorer = metrics.make_scorer(metrics.f1_score)\n",
    "\n",
    "#To use stratified K-fold cross validation\n",
    "cv = StratifiedKFold(n_splits=5, shuffle=True, random_state=7)\n",
    "\n",
    "forest_grid = GridSearchCV(RandomForestClassifier(random_state=7), parameters, scoring=scorer, cv=5, n_jobs= -1).fit(X_train, y_train)\n",
    "\n",
    "params = forest_grid.best_params_\n",
    "params"
   ]
  },
  {
   "cell_type": "code",
   "execution_count": 98,
   "id": "b21182d4-0a01-4dd1-ae4d-a8308b7e3388",
   "metadata": {},
   "outputs": [],
   "source": [
    "predicted_train_forest = forest_grid.predict(X_train)"
   ]
  },
  {
   "cell_type": "code",
   "execution_count": 99,
   "id": "4cf6c1d8-bd5c-428d-a27c-2ca78e12a49f",
   "metadata": {},
   "outputs": [
    {
     "name": "stdout",
     "output_type": "stream",
     "text": [
      "              precision    recall  f1-score   support\n",
      "\n",
      "           0       1.00      1.00      1.00      2302\n",
      "           1       1.00      1.00      1.00       408\n",
      "\n",
      "    accuracy                           1.00      2710\n",
      "   macro avg       1.00      1.00      1.00      2710\n",
      "weighted avg       1.00      1.00      1.00      2710\n",
      "\n"
     ]
    }
   ],
   "source": [
    "print(classification_report(y_train, predicted_train_forest))"
   ]
  },
  {
   "cell_type": "code",
   "execution_count": 100,
   "id": "a8d3267c-cd55-492e-b75d-58324c646b24",
   "metadata": {},
   "outputs": [],
   "source": [
    "predicted_test_forest = forest_grid.predict(X_test)"
   ]
  },
  {
   "cell_type": "code",
   "execution_count": 101,
   "id": "bb82a3eb-49dd-43d8-b881-56b5448162eb",
   "metadata": {},
   "outputs": [
    {
     "name": "stdout",
     "output_type": "stream",
     "text": [
      "              precision    recall  f1-score   support\n",
      "\n",
      "           0       0.86      1.00      0.92       576\n",
      "           1       0.71      0.05      0.09       102\n",
      "\n",
      "    accuracy                           0.85       678\n",
      "   macro avg       0.78      0.52      0.51       678\n",
      "weighted avg       0.83      0.85      0.80       678\n",
      "\n"
     ]
    }
   ],
   "source": [
    "print(classification_report(y_test, predicted_test_forest))"
   ]
  },
  {
   "cell_type": "markdown",
   "id": "2f6b2a19-7190-472f-9bad-2cccf8707e5e",
   "metadata": {},
   "source": [
    "## We compare the different models based on chosen metrics and then choose the best model that is most capable of making good predictions"
   ]
  },
  {
   "cell_type": "code",
   "execution_count": 102,
   "id": "8690ac09-794a-4b93-93a3-b652be7559cd",
   "metadata": {},
   "outputs": [
    {
     "name": "stdout",
     "output_type": "stream",
     "text": [
      "              precision    recall  f1-score   support\n",
      "\n",
      "           0       0.86      0.93      0.89       576\n",
      "           1       0.22      0.11      0.15       102\n",
      "\n",
      "    accuracy                           0.81       678\n",
      "   macro avg       0.54      0.52      0.52       678\n",
      "weighted avg       0.76      0.81      0.78       678\n",
      "\n"
     ]
    }
   ],
   "source": [
    "print(classification_report(y_test, predicted_test_knn))"
   ]
  },
  {
   "cell_type": "code",
   "execution_count": 103,
   "id": "3fe528c5-20e9-4b2b-bdd5-9a644264eee5",
   "metadata": {},
   "outputs": [
    {
     "name": "stdout",
     "output_type": "stream",
     "text": [
      "              precision    recall  f1-score   support\n",
      "\n",
      "           0       0.87      0.85      0.86       576\n",
      "           1       0.23      0.26      0.25       102\n",
      "\n",
      "    accuracy                           0.76       678\n",
      "   macro avg       0.55      0.56      0.55       678\n",
      "weighted avg       0.77      0.76      0.76       678\n",
      "\n"
     ]
    }
   ],
   "source": [
    "print(classification_report(y_test, predicted_test_tree))"
   ]
  },
  {
   "cell_type": "code",
   "execution_count": 104,
   "id": "8014736e-f3e8-4214-b9dc-ae1d3ed18860",
   "metadata": {},
   "outputs": [
    {
     "name": "stdout",
     "output_type": "stream",
     "text": [
      "              precision    recall  f1-score   support\n",
      "\n",
      "           0       0.86      1.00      0.92       576\n",
      "           1       0.71      0.05      0.09       102\n",
      "\n",
      "    accuracy                           0.85       678\n",
      "   macro avg       0.78      0.52      0.51       678\n",
      "weighted avg       0.83      0.85      0.80       678\n",
      "\n"
     ]
    }
   ],
   "source": [
    "print(classification_report(y_test, predicted_test_forest))"
   ]
  },
  {
   "cell_type": "code",
   "execution_count": 105,
   "id": "4c06ae8e-8a1b-49d3-97e2-a0d7af781e63",
   "metadata": {},
   "outputs": [
    {
     "name": "stdout",
     "output_type": "stream",
     "text": [
      "              precision    recall  f1-score   support\n",
      "\n",
      "           0       0.90      0.78      0.84       576\n",
      "           1       0.30      0.54      0.38       102\n",
      "\n",
      "    accuracy                           0.74       678\n",
      "   macro avg       0.60      0.66      0.61       678\n",
      "weighted avg       0.81      0.74      0.77       678\n",
      "\n"
     ]
    }
   ],
   "source": [
    "# Also printing the earlier Logistic Regression scores\n",
    "print(classification_report(y_test, y_pred_test_l))"
   ]
  },
  {
   "cell_type": "markdown",
   "id": "3702afbe-2a1d-4b36-b4a7-9a81cf7d6243",
   "metadata": {},
   "source": [
    "## Try Optimising the thresholds for each of the models using predict_proba (like we did for Logistic Regression)"
   ]
  },
  {
   "cell_type": "markdown",
   "id": "f90cd0eb-af93-4f0b-9dd4-d2c2e5d6e755",
   "metadata": {},
   "source": [
    "## Still not satisified with the scores??"
   ]
  },
  {
   "cell_type": "markdown",
   "id": "fa96d6c5-a8c7-4cbe-8495-a21faf40b25b",
   "metadata": {},
   "source": [
    "## We can try oversampling, SMOTE, ADASYN, other Ensembles, etc, etc and MORE...."
   ]
  },
  {
   "cell_type": "code",
   "execution_count": null,
   "id": "6fb86cf7-8c88-4c01-a526-9b12c41c61d5",
   "metadata": {},
   "outputs": [],
   "source": []
  }
 ],
 "metadata": {
  "kernelspec": {
   "display_name": "Python 3 (ipykernel)",
   "language": "python",
   "name": "python3"
  },
  "language_info": {
   "codemirror_mode": {
    "name": "ipython",
    "version": 3
   },
   "file_extension": ".py",
   "mimetype": "text/x-python",
   "name": "python",
   "nbconvert_exporter": "python",
   "pygments_lexer": "ipython3",
   "version": "3.9.12"
  }
 },
 "nbformat": 4,
 "nbformat_minor": 5
}
